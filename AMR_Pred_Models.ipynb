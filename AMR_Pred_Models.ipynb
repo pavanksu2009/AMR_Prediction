{
 "cells": [
  {
   "cell_type": "code",
   "execution_count": 2,
   "metadata": {},
   "outputs": [],
   "source": [
    "# import necessary libraries\n",
    "import os\n",
    "import numpy as np\n",
    "import pandas as pd\n",
    "import matplotlib.pyplot as plt\n",
    "import seaborn as sns\n",
    "import json\n",
    "from sklearn import preprocessing\n",
    "from sklearn.model_selection import train_test_split\n",
    "from sklearn.metrics import accuracy_score, confusion_matrix, classification_report\n",
    "from sklearn.ensemble import RandomForestClassifier\n",
    "from sklearn.model_selection import GridSearchCV\n",
    "from sklearn.model_selection import RandomizedSearchCV\n",
    "from sklearn.model_selection import cross_val_score\n",
    "from sklearn.preprocessing import StandardScaler\n",
    "from sklearn.preprocessing import OneHotEncoder\n",
    "import joblib\n",
    "import warnings\n",
    "warnings.filterwarnings(\"ignore\")"
   ]
  },
  {
   "cell_type": "code",
   "execution_count": 3,
   "metadata": {},
   "outputs": [],
   "source": [
    "# create datasets, evaluation_results_json, models_joblib folders if they don't exist already\n",
    "if not os.path.exists('datasets'):\n",
    "    os.makedirs('datasets')\n",
    "if not os.path.exists('evaluation_results_json'):\n",
    "    os.makedirs('evaluation_results_json')\n",
    "if not os.path.exists('models_joblib'):\n",
    "    os.makedirs('models_joblib')"
   ]
  },
  {
   "cell_type": "code",
   "execution_count": 4,
   "metadata": {},
   "outputs": [
    {
     "data": {
      "text/html": [
       "<div>\n",
       "<style scoped>\n",
       "    .dataframe tbody tr th:only-of-type {\n",
       "        vertical-align: middle;\n",
       "    }\n",
       "\n",
       "    .dataframe tbody tr th {\n",
       "        vertical-align: top;\n",
       "    }\n",
       "\n",
       "    .dataframe thead th {\n",
       "        text-align: right;\n",
       "    }\n",
       "</style>\n",
       "<table border=\"1\" class=\"dataframe\">\n",
       "  <thead>\n",
       "    <tr style=\"text-align: right;\">\n",
       "      <th></th>\n",
       "      <th>patient_id</th>\n",
       "      <th>date_admission</th>\n",
       "      <th>ciprofloxacin</th>\n",
       "      <th>sex</th>\n",
       "      <th>age</th>\n",
       "    </tr>\n",
       "  </thead>\n",
       "  <tbody>\n",
       "    <tr>\n",
       "      <th>0</th>\n",
       "      <td>7923</td>\n",
       "      <td>3</td>\n",
       "      <td>S</td>\n",
       "      <td>female</td>\n",
       "      <td>42</td>\n",
       "    </tr>\n",
       "    <tr>\n",
       "      <th>1</th>\n",
       "      <td>7923</td>\n",
       "      <td>2</td>\n",
       "      <td>S</td>\n",
       "      <td>female</td>\n",
       "      <td>42</td>\n",
       "    </tr>\n",
       "    <tr>\n",
       "      <th>2</th>\n",
       "      <td>7923</td>\n",
       "      <td>1</td>\n",
       "      <td>S</td>\n",
       "      <td>female</td>\n",
       "      <td>42</td>\n",
       "    </tr>\n",
       "    <tr>\n",
       "      <th>3</th>\n",
       "      <td>7825</td>\n",
       "      <td>1</td>\n",
       "      <td>S</td>\n",
       "      <td>female</td>\n",
       "      <td>21</td>\n",
       "    </tr>\n",
       "    <tr>\n",
       "      <th>4</th>\n",
       "      <td>5375</td>\n",
       "      <td>2</td>\n",
       "      <td>S</td>\n",
       "      <td>male</td>\n",
       "      <td>65</td>\n",
       "    </tr>\n",
       "  </tbody>\n",
       "</table>\n",
       "</div>"
      ],
      "text/plain": [
       "   patient_id  date_admission ciprofloxacin     sex  age\n",
       "0        7923               3             S  female   42\n",
       "1        7923               2             S  female   42\n",
       "2        7923               1             S  female   42\n",
       "3        7825               1             S  female   21\n",
       "4        5375               2             S    male   65"
      ]
     },
     "execution_count": 4,
     "metadata": {},
     "output_type": "execute_result"
    }
   ],
   "source": [
    "df_cip = pd.read_csv(\"Resources/ciprofloxacin.csv\")\n",
    "df_cip.head()"
   ]
  },
  {
   "cell_type": "code",
   "execution_count": 5,
   "metadata": {},
   "outputs": [
    {
     "data": {
      "text/html": [
       "<div>\n",
       "<style scoped>\n",
       "    .dataframe tbody tr th:only-of-type {\n",
       "        vertical-align: middle;\n",
       "    }\n",
       "\n",
       "    .dataframe tbody tr th {\n",
       "        vertical-align: top;\n",
       "    }\n",
       "\n",
       "    .dataframe thead th {\n",
       "        text-align: right;\n",
       "    }\n",
       "</style>\n",
       "<table border=\"1\" class=\"dataframe\">\n",
       "  <thead>\n",
       "    <tr style=\"text-align: right;\">\n",
       "      <th></th>\n",
       "      <th>date_admission</th>\n",
       "      <th>ciprofloxacin</th>\n",
       "      <th>sex</th>\n",
       "      <th>age</th>\n",
       "    </tr>\n",
       "  </thead>\n",
       "  <tbody>\n",
       "    <tr>\n",
       "      <th>0</th>\n",
       "      <td>3</td>\n",
       "      <td>S</td>\n",
       "      <td>female</td>\n",
       "      <td>42</td>\n",
       "    </tr>\n",
       "    <tr>\n",
       "      <th>1</th>\n",
       "      <td>2</td>\n",
       "      <td>S</td>\n",
       "      <td>female</td>\n",
       "      <td>42</td>\n",
       "    </tr>\n",
       "    <tr>\n",
       "      <th>2</th>\n",
       "      <td>1</td>\n",
       "      <td>S</td>\n",
       "      <td>female</td>\n",
       "      <td>42</td>\n",
       "    </tr>\n",
       "    <tr>\n",
       "      <th>3</th>\n",
       "      <td>1</td>\n",
       "      <td>S</td>\n",
       "      <td>female</td>\n",
       "      <td>21</td>\n",
       "    </tr>\n",
       "    <tr>\n",
       "      <th>4</th>\n",
       "      <td>2</td>\n",
       "      <td>S</td>\n",
       "      <td>male</td>\n",
       "      <td>65</td>\n",
       "    </tr>\n",
       "  </tbody>\n",
       "</table>\n",
       "</div>"
      ],
      "text/plain": [
       "   date_admission ciprofloxacin     sex  age\n",
       "0               3             S  female   42\n",
       "1               2             S  female   42\n",
       "2               1             S  female   42\n",
       "3               1             S  female   21\n",
       "4               2             S    male   65"
      ]
     },
     "execution_count": 5,
     "metadata": {},
     "output_type": "execute_result"
    }
   ],
   "source": [
    "# drop patient_id column\n",
    "df_cip = df_cip.drop(columns=['patient_id'])\n",
    "df_cip.head()"
   ]
  },
  {
   "cell_type": "code",
   "execution_count": 6,
   "metadata": {},
   "outputs": [
    {
     "data": {
      "text/html": [
       "<div>\n",
       "<style scoped>\n",
       "    .dataframe tbody tr th:only-of-type {\n",
       "        vertical-align: middle;\n",
       "    }\n",
       "\n",
       "    .dataframe tbody tr th {\n",
       "        vertical-align: top;\n",
       "    }\n",
       "\n",
       "    .dataframe thead th {\n",
       "        text-align: right;\n",
       "    }\n",
       "</style>\n",
       "<table border=\"1\" class=\"dataframe\">\n",
       "  <thead>\n",
       "    <tr style=\"text-align: right;\">\n",
       "      <th></th>\n",
       "      <th>date_admission</th>\n",
       "      <th>ciprofloxacin</th>\n",
       "      <th>sex</th>\n",
       "      <th>age</th>\n",
       "    </tr>\n",
       "  </thead>\n",
       "  <tbody>\n",
       "    <tr>\n",
       "      <th>0</th>\n",
       "      <td>3</td>\n",
       "      <td>0</td>\n",
       "      <td>female</td>\n",
       "      <td>42</td>\n",
       "    </tr>\n",
       "    <tr>\n",
       "      <th>1</th>\n",
       "      <td>2</td>\n",
       "      <td>0</td>\n",
       "      <td>female</td>\n",
       "      <td>42</td>\n",
       "    </tr>\n",
       "    <tr>\n",
       "      <th>2</th>\n",
       "      <td>1</td>\n",
       "      <td>0</td>\n",
       "      <td>female</td>\n",
       "      <td>42</td>\n",
       "    </tr>\n",
       "    <tr>\n",
       "      <th>3</th>\n",
       "      <td>1</td>\n",
       "      <td>0</td>\n",
       "      <td>female</td>\n",
       "      <td>21</td>\n",
       "    </tr>\n",
       "    <tr>\n",
       "      <th>4</th>\n",
       "      <td>2</td>\n",
       "      <td>0</td>\n",
       "      <td>male</td>\n",
       "      <td>65</td>\n",
       "    </tr>\n",
       "  </tbody>\n",
       "</table>\n",
       "</div>"
      ],
      "text/plain": [
       "   date_admission  ciprofloxacin     sex  age\n",
       "0               3              0  female   42\n",
       "1               2              0  female   42\n",
       "2               1              0  female   42\n",
       "3               1              0  female   21\n",
       "4               2              0    male   65"
      ]
     },
     "execution_count": 6,
     "metadata": {},
     "output_type": "execute_result"
    }
   ],
   "source": [
    "# in ciprofloxacin column replace S is 0 and R is 1 \n",
    "df_cip['ciprofloxacin'] = df_cip['ciprofloxacin'].replace({'S': 0, 'R': 1})\n",
    "df_cip.head()"
   ]
  },
  {
   "cell_type": "code",
   "execution_count": 7,
   "metadata": {},
   "outputs": [
    {
     "name": "stdout",
     "output_type": "stream",
     "text": [
      "<class 'pandas.core.frame.DataFrame'>\n",
      "RangeIndex: 10108 entries, 0 to 10107\n",
      "Data columns (total 4 columns):\n",
      " #   Column          Non-Null Count  Dtype \n",
      "---  ------          --------------  ----- \n",
      " 0   date_admission  10108 non-null  int64 \n",
      " 1   ciprofloxacin   10108 non-null  int64 \n",
      " 2   sex             10108 non-null  object\n",
      " 3   age             10108 non-null  int64 \n",
      "dtypes: int64(3), object(1)\n",
      "memory usage: 316.0+ KB\n"
     ]
    }
   ],
   "source": [
    "df_cip.info()"
   ]
  },
  {
   "cell_type": "code",
   "execution_count": 8,
   "metadata": {},
   "outputs": [
    {
     "data": {
      "text/html": [
       "<div>\n",
       "<style scoped>\n",
       "    .dataframe tbody tr th:only-of-type {\n",
       "        vertical-align: middle;\n",
       "    }\n",
       "\n",
       "    .dataframe tbody tr th {\n",
       "        vertical-align: top;\n",
       "    }\n",
       "\n",
       "    .dataframe thead th {\n",
       "        text-align: right;\n",
       "    }\n",
       "</style>\n",
       "<table border=\"1\" class=\"dataframe\">\n",
       "  <thead>\n",
       "    <tr style=\"text-align: right;\">\n",
       "      <th></th>\n",
       "      <th>patient_id</th>\n",
       "      <th>date_admission</th>\n",
       "      <th>gentamicin</th>\n",
       "      <th>sex</th>\n",
       "      <th>age</th>\n",
       "    </tr>\n",
       "  </thead>\n",
       "  <tbody>\n",
       "    <tr>\n",
       "      <th>0</th>\n",
       "      <td>7923</td>\n",
       "      <td>3</td>\n",
       "      <td>S</td>\n",
       "      <td>female</td>\n",
       "      <td>42</td>\n",
       "    </tr>\n",
       "    <tr>\n",
       "      <th>1</th>\n",
       "      <td>7923</td>\n",
       "      <td>2</td>\n",
       "      <td>R</td>\n",
       "      <td>female</td>\n",
       "      <td>42</td>\n",
       "    </tr>\n",
       "    <tr>\n",
       "      <th>2</th>\n",
       "      <td>7923</td>\n",
       "      <td>1</td>\n",
       "      <td>S</td>\n",
       "      <td>female</td>\n",
       "      <td>42</td>\n",
       "    </tr>\n",
       "    <tr>\n",
       "      <th>3</th>\n",
       "      <td>7825</td>\n",
       "      <td>1</td>\n",
       "      <td>S</td>\n",
       "      <td>female</td>\n",
       "      <td>21</td>\n",
       "    </tr>\n",
       "    <tr>\n",
       "      <th>4</th>\n",
       "      <td>5375</td>\n",
       "      <td>2</td>\n",
       "      <td>R</td>\n",
       "      <td>male</td>\n",
       "      <td>65</td>\n",
       "    </tr>\n",
       "  </tbody>\n",
       "</table>\n",
       "</div>"
      ],
      "text/plain": [
       "   patient_id  date_admission gentamicin     sex  age\n",
       "0        7923               3          S  female   42\n",
       "1        7923               2          R  female   42\n",
       "2        7923               1          S  female   42\n",
       "3        7825               1          S  female   21\n",
       "4        5375               2          R    male   65"
      ]
     },
     "execution_count": 8,
     "metadata": {},
     "output_type": "execute_result"
    }
   ],
   "source": [
    "df_gen = pd.read_csv(\"Resources/gentamicin.csv\")\n",
    "df_gen.head()"
   ]
  },
  {
   "cell_type": "code",
   "execution_count": 9,
   "metadata": {},
   "outputs": [
    {
     "data": {
      "text/html": [
       "<div>\n",
       "<style scoped>\n",
       "    .dataframe tbody tr th:only-of-type {\n",
       "        vertical-align: middle;\n",
       "    }\n",
       "\n",
       "    .dataframe tbody tr th {\n",
       "        vertical-align: top;\n",
       "    }\n",
       "\n",
       "    .dataframe thead th {\n",
       "        text-align: right;\n",
       "    }\n",
       "</style>\n",
       "<table border=\"1\" class=\"dataframe\">\n",
       "  <thead>\n",
       "    <tr style=\"text-align: right;\">\n",
       "      <th></th>\n",
       "      <th>date_admission</th>\n",
       "      <th>gentamicin</th>\n",
       "      <th>sex</th>\n",
       "      <th>age</th>\n",
       "    </tr>\n",
       "  </thead>\n",
       "  <tbody>\n",
       "    <tr>\n",
       "      <th>0</th>\n",
       "      <td>3</td>\n",
       "      <td>S</td>\n",
       "      <td>female</td>\n",
       "      <td>42</td>\n",
       "    </tr>\n",
       "    <tr>\n",
       "      <th>1</th>\n",
       "      <td>2</td>\n",
       "      <td>R</td>\n",
       "      <td>female</td>\n",
       "      <td>42</td>\n",
       "    </tr>\n",
       "    <tr>\n",
       "      <th>2</th>\n",
       "      <td>1</td>\n",
       "      <td>S</td>\n",
       "      <td>female</td>\n",
       "      <td>42</td>\n",
       "    </tr>\n",
       "    <tr>\n",
       "      <th>3</th>\n",
       "      <td>1</td>\n",
       "      <td>S</td>\n",
       "      <td>female</td>\n",
       "      <td>21</td>\n",
       "    </tr>\n",
       "    <tr>\n",
       "      <th>4</th>\n",
       "      <td>2</td>\n",
       "      <td>R</td>\n",
       "      <td>male</td>\n",
       "      <td>65</td>\n",
       "    </tr>\n",
       "  </tbody>\n",
       "</table>\n",
       "</div>"
      ],
      "text/plain": [
       "   date_admission gentamicin     sex  age\n",
       "0               3          S  female   42\n",
       "1               2          R  female   42\n",
       "2               1          S  female   42\n",
       "3               1          S  female   21\n",
       "4               2          R    male   65"
      ]
     },
     "execution_count": 9,
     "metadata": {},
     "output_type": "execute_result"
    }
   ],
   "source": [
    "# drop patient_id column \n",
    "df_gen = df_gen.drop(columns=['patient_id'])\n",
    "df_gen.head()"
   ]
  },
  {
   "cell_type": "code",
   "execution_count": 10,
   "metadata": {},
   "outputs": [
    {
     "data": {
      "text/html": [
       "<div>\n",
       "<style scoped>\n",
       "    .dataframe tbody tr th:only-of-type {\n",
       "        vertical-align: middle;\n",
       "    }\n",
       "\n",
       "    .dataframe tbody tr th {\n",
       "        vertical-align: top;\n",
       "    }\n",
       "\n",
       "    .dataframe thead th {\n",
       "        text-align: right;\n",
       "    }\n",
       "</style>\n",
       "<table border=\"1\" class=\"dataframe\">\n",
       "  <thead>\n",
       "    <tr style=\"text-align: right;\">\n",
       "      <th></th>\n",
       "      <th>date_admission</th>\n",
       "      <th>gentamicin</th>\n",
       "      <th>sex</th>\n",
       "      <th>age</th>\n",
       "    </tr>\n",
       "  </thead>\n",
       "  <tbody>\n",
       "    <tr>\n",
       "      <th>0</th>\n",
       "      <td>3</td>\n",
       "      <td>0</td>\n",
       "      <td>female</td>\n",
       "      <td>42</td>\n",
       "    </tr>\n",
       "    <tr>\n",
       "      <th>1</th>\n",
       "      <td>2</td>\n",
       "      <td>1</td>\n",
       "      <td>female</td>\n",
       "      <td>42</td>\n",
       "    </tr>\n",
       "    <tr>\n",
       "      <th>2</th>\n",
       "      <td>1</td>\n",
       "      <td>0</td>\n",
       "      <td>female</td>\n",
       "      <td>42</td>\n",
       "    </tr>\n",
       "    <tr>\n",
       "      <th>3</th>\n",
       "      <td>1</td>\n",
       "      <td>0</td>\n",
       "      <td>female</td>\n",
       "      <td>21</td>\n",
       "    </tr>\n",
       "    <tr>\n",
       "      <th>4</th>\n",
       "      <td>2</td>\n",
       "      <td>1</td>\n",
       "      <td>male</td>\n",
       "      <td>65</td>\n",
       "    </tr>\n",
       "  </tbody>\n",
       "</table>\n",
       "</div>"
      ],
      "text/plain": [
       "   date_admission  gentamicin     sex  age\n",
       "0               3           0  female   42\n",
       "1               2           1  female   42\n",
       "2               1           0  female   42\n",
       "3               1           0  female   21\n",
       "4               2           1    male   65"
      ]
     },
     "execution_count": 10,
     "metadata": {},
     "output_type": "execute_result"
    }
   ],
   "source": [
    "# in gentamicin column replace S is 0 and R is 1\n",
    "df_gen['gentamicin'] = df_gen['gentamicin'].replace({'S': 0, 'R': 1})\n",
    "df_gen.head()"
   ]
  },
  {
   "cell_type": "code",
   "execution_count": 11,
   "metadata": {},
   "outputs": [
    {
     "name": "stdout",
     "output_type": "stream",
     "text": [
      "<class 'pandas.core.frame.DataFrame'>\n",
      "RangeIndex: 10108 entries, 0 to 10107\n",
      "Data columns (total 4 columns):\n",
      " #   Column          Non-Null Count  Dtype \n",
      "---  ------          --------------  ----- \n",
      " 0   date_admission  10108 non-null  int64 \n",
      " 1   gentamicin      10108 non-null  int64 \n",
      " 2   sex             10108 non-null  object\n",
      " 3   age             10108 non-null  int64 \n",
      "dtypes: int64(3), object(1)\n",
      "memory usage: 316.0+ KB\n"
     ]
    }
   ],
   "source": [
    "df_gen.info()"
   ]
  },
  {
   "cell_type": "code",
   "execution_count": 12,
   "metadata": {},
   "outputs": [
    {
     "data": {
      "text/html": [
       "<div>\n",
       "<style scoped>\n",
       "    .dataframe tbody tr th:only-of-type {\n",
       "        vertical-align: middle;\n",
       "    }\n",
       "\n",
       "    .dataframe tbody tr th {\n",
       "        vertical-align: top;\n",
       "    }\n",
       "\n",
       "    .dataframe thead th {\n",
       "        text-align: right;\n",
       "    }\n",
       "</style>\n",
       "<table border=\"1\" class=\"dataframe\">\n",
       "  <thead>\n",
       "    <tr style=\"text-align: right;\">\n",
       "      <th></th>\n",
       "      <th>patient_id</th>\n",
       "      <th>date_admission</th>\n",
       "      <th>amoxicillin_clavulanic_acid</th>\n",
       "      <th>sex</th>\n",
       "      <th>age</th>\n",
       "    </tr>\n",
       "  </thead>\n",
       "  <tbody>\n",
       "    <tr>\n",
       "      <th>0</th>\n",
       "      <td>7923</td>\n",
       "      <td>3</td>\n",
       "      <td>S</td>\n",
       "      <td>female</td>\n",
       "      <td>42</td>\n",
       "    </tr>\n",
       "    <tr>\n",
       "      <th>1</th>\n",
       "      <td>7923</td>\n",
       "      <td>2</td>\n",
       "      <td>S</td>\n",
       "      <td>female</td>\n",
       "      <td>42</td>\n",
       "    </tr>\n",
       "    <tr>\n",
       "      <th>2</th>\n",
       "      <td>7923</td>\n",
       "      <td>1</td>\n",
       "      <td>S</td>\n",
       "      <td>female</td>\n",
       "      <td>42</td>\n",
       "    </tr>\n",
       "    <tr>\n",
       "      <th>3</th>\n",
       "      <td>7825</td>\n",
       "      <td>1</td>\n",
       "      <td>R</td>\n",
       "      <td>female</td>\n",
       "      <td>21</td>\n",
       "    </tr>\n",
       "    <tr>\n",
       "      <th>4</th>\n",
       "      <td>5375</td>\n",
       "      <td>2</td>\n",
       "      <td>S</td>\n",
       "      <td>male</td>\n",
       "      <td>65</td>\n",
       "    </tr>\n",
       "  </tbody>\n",
       "</table>\n",
       "</div>"
      ],
      "text/plain": [
       "   patient_id  date_admission amoxicillin_clavulanic_acid     sex  age\n",
       "0        7923               3                           S  female   42\n",
       "1        7923               2                           S  female   42\n",
       "2        7923               1                           S  female   42\n",
       "3        7825               1                           R  female   21\n",
       "4        5375               2                           S    male   65"
      ]
     },
     "execution_count": 12,
     "metadata": {},
     "output_type": "execute_result"
    }
   ],
   "source": [
    "df_omox = pd.read_csv(\"Resources/amoxicillin_clavulanic_acid.csv\")\n",
    "df_omox.head()"
   ]
  },
  {
   "cell_type": "code",
   "execution_count": 13,
   "metadata": {},
   "outputs": [
    {
     "data": {
      "text/html": [
       "<div>\n",
       "<style scoped>\n",
       "    .dataframe tbody tr th:only-of-type {\n",
       "        vertical-align: middle;\n",
       "    }\n",
       "\n",
       "    .dataframe tbody tr th {\n",
       "        vertical-align: top;\n",
       "    }\n",
       "\n",
       "    .dataframe thead th {\n",
       "        text-align: right;\n",
       "    }\n",
       "</style>\n",
       "<table border=\"1\" class=\"dataframe\">\n",
       "  <thead>\n",
       "    <tr style=\"text-align: right;\">\n",
       "      <th></th>\n",
       "      <th>date_admission</th>\n",
       "      <th>amoxicillin_clavulanic_acid</th>\n",
       "      <th>sex</th>\n",
       "      <th>age</th>\n",
       "    </tr>\n",
       "  </thead>\n",
       "  <tbody>\n",
       "    <tr>\n",
       "      <th>0</th>\n",
       "      <td>3</td>\n",
       "      <td>S</td>\n",
       "      <td>female</td>\n",
       "      <td>42</td>\n",
       "    </tr>\n",
       "    <tr>\n",
       "      <th>1</th>\n",
       "      <td>2</td>\n",
       "      <td>S</td>\n",
       "      <td>female</td>\n",
       "      <td>42</td>\n",
       "    </tr>\n",
       "    <tr>\n",
       "      <th>2</th>\n",
       "      <td>1</td>\n",
       "      <td>S</td>\n",
       "      <td>female</td>\n",
       "      <td>42</td>\n",
       "    </tr>\n",
       "    <tr>\n",
       "      <th>3</th>\n",
       "      <td>1</td>\n",
       "      <td>R</td>\n",
       "      <td>female</td>\n",
       "      <td>21</td>\n",
       "    </tr>\n",
       "    <tr>\n",
       "      <th>4</th>\n",
       "      <td>2</td>\n",
       "      <td>S</td>\n",
       "      <td>male</td>\n",
       "      <td>65</td>\n",
       "    </tr>\n",
       "  </tbody>\n",
       "</table>\n",
       "</div>"
      ],
      "text/plain": [
       "   date_admission amoxicillin_clavulanic_acid     sex  age\n",
       "0               3                           S  female   42\n",
       "1               2                           S  female   42\n",
       "2               1                           S  female   42\n",
       "3               1                           R  female   21\n",
       "4               2                           S    male   65"
      ]
     },
     "execution_count": 13,
     "metadata": {},
     "output_type": "execute_result"
    }
   ],
   "source": [
    "# drop patient_id column\n",
    "df_omox = df_omox.drop(columns=['patient_id'])\n",
    "df_omox.head()"
   ]
  },
  {
   "cell_type": "code",
   "execution_count": 14,
   "metadata": {},
   "outputs": [
    {
     "data": {
      "text/html": [
       "<div>\n",
       "<style scoped>\n",
       "    .dataframe tbody tr th:only-of-type {\n",
       "        vertical-align: middle;\n",
       "    }\n",
       "\n",
       "    .dataframe tbody tr th {\n",
       "        vertical-align: top;\n",
       "    }\n",
       "\n",
       "    .dataframe thead th {\n",
       "        text-align: right;\n",
       "    }\n",
       "</style>\n",
       "<table border=\"1\" class=\"dataframe\">\n",
       "  <thead>\n",
       "    <tr style=\"text-align: right;\">\n",
       "      <th></th>\n",
       "      <th>date_admission</th>\n",
       "      <th>amoxicillin_clavulanic_acid</th>\n",
       "      <th>sex</th>\n",
       "      <th>age</th>\n",
       "    </tr>\n",
       "  </thead>\n",
       "  <tbody>\n",
       "    <tr>\n",
       "      <th>0</th>\n",
       "      <td>3</td>\n",
       "      <td>0</td>\n",
       "      <td>female</td>\n",
       "      <td>42</td>\n",
       "    </tr>\n",
       "    <tr>\n",
       "      <th>1</th>\n",
       "      <td>2</td>\n",
       "      <td>0</td>\n",
       "      <td>female</td>\n",
       "      <td>42</td>\n",
       "    </tr>\n",
       "    <tr>\n",
       "      <th>2</th>\n",
       "      <td>1</td>\n",
       "      <td>0</td>\n",
       "      <td>female</td>\n",
       "      <td>42</td>\n",
       "    </tr>\n",
       "    <tr>\n",
       "      <th>3</th>\n",
       "      <td>1</td>\n",
       "      <td>1</td>\n",
       "      <td>female</td>\n",
       "      <td>21</td>\n",
       "    </tr>\n",
       "    <tr>\n",
       "      <th>4</th>\n",
       "      <td>2</td>\n",
       "      <td>0</td>\n",
       "      <td>male</td>\n",
       "      <td>65</td>\n",
       "    </tr>\n",
       "  </tbody>\n",
       "</table>\n",
       "</div>"
      ],
      "text/plain": [
       "   date_admission  amoxicillin_clavulanic_acid     sex  age\n",
       "0               3                            0  female   42\n",
       "1               2                            0  female   42\n",
       "2               1                            0  female   42\n",
       "3               1                            1  female   21\n",
       "4               2                            0    male   65"
      ]
     },
     "execution_count": 14,
     "metadata": {},
     "output_type": "execute_result"
    }
   ],
   "source": [
    "# in amoxicillin_clavulanic_acid column replace S is 0 and R is 1\n",
    "df_omox['amoxicillin_clavulanic_acid'] = df_omox['amoxicillin_clavulanic_acid'].replace({'S': 0, 'R': 1})\n",
    "df_omox.head()"
   ]
  },
  {
   "cell_type": "code",
   "execution_count": 15,
   "metadata": {},
   "outputs": [
    {
     "name": "stdout",
     "output_type": "stream",
     "text": [
      "<class 'pandas.core.frame.DataFrame'>\n",
      "RangeIndex: 10108 entries, 0 to 10107\n",
      "Data columns (total 4 columns):\n",
      " #   Column                       Non-Null Count  Dtype \n",
      "---  ------                       --------------  ----- \n",
      " 0   date_admission               10108 non-null  int64 \n",
      " 1   amoxicillin_clavulanic_acid  10108 non-null  int64 \n",
      " 2   sex                          10108 non-null  object\n",
      " 3   age                          10108 non-null  int64 \n",
      "dtypes: int64(3), object(1)\n",
      "memory usage: 316.0+ KB\n"
     ]
    }
   ],
   "source": [
    "df_omox.info()"
   ]
  },
  {
   "cell_type": "code",
   "execution_count": 16,
   "metadata": {},
   "outputs": [],
   "source": [
    "from main import preprocess\n",
    "preprocess(input_data=df_cip, target='ciprofloxacin', numeric_features=['age'], categorical_features = ['sex'], train_features_output_path='datasets/cip_train_features.csv', train_labels_output_path='datasets/cip_train_labels.csv', val_features_output_path='datasets/cip_val_features.csv', val_labels_output_path='datasets/cip_val_labels.csv', test_features_output_path='datasets/cip_test_features.csv', test_labels_output_path='datasets/cip_test_labels.csv')"
   ]
  },
  {
   "cell_type": "code",
   "execution_count": 17,
   "metadata": {},
   "outputs": [],
   "source": [
    "preprocess(input_data=df_gen, target='gentamicin', numeric_features=['age'], categorical_features= ['sex'], train_features_output_path='datasets/gen_train_features.csv', train_labels_output_path='datasets/gen_train_labels.csv', val_features_output_path='datasets/gen_val_features.csv', val_labels_output_path='datasets/gen_val_labels.csv', test_features_output_path='datasets/gen_test_features.csv', test_labels_output_path='datasets/gen_test_labels.csv')"
   ]
  },
  {
   "cell_type": "code",
   "execution_count": 18,
   "metadata": {},
   "outputs": [],
   "source": [
    "preprocess(input_data=df_omox, target='amoxicillin_clavulanic_acid', numeric_features=['age'], categorical_features= ['sex'], train_features_output_path='datasets/omox_train_features.csv', train_labels_output_path='datasets/omox_train_labels.csv', val_features_output_path='datasets/omox_val_features.csv', val_labels_output_path='datasets/omox_val_labels.csv', test_features_output_path='datasets/omox_test_features.csv', test_labels_output_path='datasets/omox_test_labels.csv')"
   ]
  },
  {
   "cell_type": "code",
   "execution_count": 19,
   "metadata": {},
   "outputs": [
    {
     "name": "stdout",
     "output_type": "stream",
     "text": [
      "Validation Set Metrics\n",
      "Accuracy: 0.9017305315203955\n",
      "Precision: 0.0\n",
      "Recall: 0.0\n",
      "F1 Score: 0.0\n",
      "ROC AUC: 0.5\n",
      "Confusion Matrix: \n",
      "[[1459    0]\n",
      " [ 159    0]]\n",
      "Classification Report: \n",
      "              precision    recall  f1-score   support\n",
      "\n",
      "           0       0.90      1.00      0.95      1459\n",
      "           1       0.00      0.00      0.00       159\n",
      "\n",
      "    accuracy                           0.90      1618\n",
      "   macro avg       0.45      0.50      0.47      1618\n",
      "weighted avg       0.81      0.90      0.86      1618\n",
      "\n",
      "Training Accuracy: 0.9013605442176871\n",
      "Validation Accuracy: 0.9017305315203955\n",
      "Saving model to models_joblib/cip_lr_model.joblib\n"
     ]
    }
   ],
   "source": [
    "from main import training_lr\n",
    "training_lr(train_features_data='datasets/cip_train_features.csv', train_labels_data='datasets/cip_train_labels.csv', val_features_data='datasets/cip_val_features.csv', val_labels_data='datasets/cip_val_labels.csv', model_output_directory='models_joblib/cip_lr_model.joblib')"
   ]
  },
  {
   "cell_type": "code",
   "execution_count": 20,
   "metadata": {},
   "outputs": [
    {
     "name": "stdout",
     "output_type": "stream",
     "text": [
      "Validation Set Metrics\n",
      "Accuracy: 0.8331273176761433\n",
      "Precision: 0.8507295173961841\n",
      "Recall: 0.846927374301676\n",
      "F1 Score: 0.8488241881298992\n",
      "ROC AUC: 0.8314858171646692\n",
      "Confusion Matrix: \n",
      "[[590 133]\n",
      " [137 758]]\n",
      "Classification Report: \n",
      "              precision    recall  f1-score   support\n",
      "\n",
      "           0       0.81      0.82      0.81       723\n",
      "           1       0.85      0.85      0.85       895\n",
      "\n",
      "    accuracy                           0.83      1618\n",
      "   macro avg       0.83      0.83      0.83      1618\n",
      "weighted avg       0.83      0.83      0.83      1618\n",
      "\n",
      "Training Accuracy: 0.819882498453927\n",
      "Validation Accuracy: 0.8331273176761433\n",
      "Saving model to models_joblib/gen_lr_model.joblib\n"
     ]
    }
   ],
   "source": [
    "training_lr(train_features_data='datasets/gen_train_features.csv', train_labels_data='datasets/gen_train_labels.csv', val_features_data='datasets/gen_val_features.csv', val_labels_data='datasets/gen_val_labels.csv', model_output_directory='models_joblib/gen_lr_model.joblib')"
   ]
  },
  {
   "cell_type": "code",
   "execution_count": 21,
   "metadata": {},
   "outputs": [
    {
     "name": "stdout",
     "output_type": "stream",
     "text": [
      "Validation Set Metrics\n",
      "Accuracy: 0.8479604449938195\n",
      "Precision: 0.0\n",
      "Recall: 0.0\n",
      "F1 Score: 0.0\n",
      "ROC AUC: 0.5\n",
      "Confusion Matrix: \n",
      "[[1372    0]\n",
      " [ 246    0]]\n",
      "Classification Report: \n",
      "              precision    recall  f1-score   support\n",
      "\n",
      "           0       0.85      1.00      0.92      1372\n",
      "           1       0.00      0.00      0.00       246\n",
      "\n",
      "    accuracy                           0.85      1618\n",
      "   macro avg       0.42      0.50      0.46      1618\n",
      "weighted avg       0.72      0.85      0.78      1618\n",
      "\n",
      "Training Accuracy: 0.8583797155225726\n",
      "Validation Accuracy: 0.8479604449938195\n",
      "Saving model to models_joblib/omox_lr_model.joblib\n"
     ]
    }
   ],
   "source": [
    "training_lr(train_features_data='datasets/omox_train_features.csv', train_labels_data='datasets/omox_train_labels.csv', val_features_data='datasets/omox_val_features.csv', val_labels_data='datasets/omox_val_labels.csv', model_output_directory='models_joblib/omox_lr_model.joblib')"
   ]
  },
  {
   "cell_type": "code",
   "execution_count": 22,
   "metadata": {},
   "outputs": [
    {
     "name": "stdout",
     "output_type": "stream",
     "text": [
      "Test Set Metrics\n",
      "Accuracy: 0.8986152324431256\n",
      "Precision: 0.0\n",
      "Recall: 0.0\n",
      "F1 Score: 0.0\n",
      "ROC AUC: 0.5\n",
      "Confusion Matrix: \n",
      "[[1817    0]\n",
      " [ 205    0]]\n",
      "Classification Report: \n",
      "              precision    recall  f1-score   support\n",
      "\n",
      "           0       0.90      1.00      0.95      1817\n",
      "           1       0.00      0.00      0.00       205\n",
      "\n",
      "    accuracy                           0.90      2022\n",
      "   macro avg       0.45      0.50      0.47      2022\n",
      "weighted avg       0.81      0.90      0.85      2022\n",
      "\n"
     ]
    },
    {
     "data": {
      "text/plain": [
       "({'classification_metrics': {'accuracy': {'value': 0.8986152324431256},\n",
       "   'precision': {'value': 0.0},\n",
       "   'recall': {'value': 0.0},\n",
       "   'f1': {'value': 0.0},\n",
       "   'roc_auc': {'value': 0.5}}},\n",
       " array([0, 0, 0, ..., 0, 0, 0], dtype=int64))"
      ]
     },
     "execution_count": 22,
     "metadata": {},
     "output_type": "execute_result"
    }
   ],
   "source": [
    "from main import evaluation_lr\n",
    "evaluation_lr(model_path='models_joblib/cip_lr_model.joblib', test_features_data='datasets/cip_test_features.csv', test_labels_data='datasets/cip_test_labels.csv', evaluation_output_path='evaluation_results_json/cip_lr_evaluation.json')"
   ]
  },
  {
   "cell_type": "code",
   "execution_count": 23,
   "metadata": {},
   "outputs": [
    {
     "name": "stdout",
     "output_type": "stream",
     "text": [
      "Test Set Metrics\n",
      "Accuracy: 0.8372898120672602\n",
      "Precision: 0.8563922942206655\n",
      "Recall: 0.8556430446194225\n",
      "F1 Score: 0.8560175054704595\n",
      "ROC AUC: 0.8345336952334884\n",
      "Confusion Matrix: \n",
      "[[715 164]\n",
      " [165 978]]\n",
      "Classification Report: \n",
      "              precision    recall  f1-score   support\n",
      "\n",
      "           0       0.81      0.81      0.81       879\n",
      "           1       0.86      0.86      0.86      1143\n",
      "\n",
      "    accuracy                           0.84      2022\n",
      "   macro avg       0.83      0.83      0.83      2022\n",
      "weighted avg       0.84      0.84      0.84      2022\n",
      "\n"
     ]
    },
    {
     "data": {
      "text/plain": [
       "({'classification_metrics': {'accuracy': {'value': 0.8372898120672602},\n",
       "   'precision': {'value': 0.8563922942206655},\n",
       "   'recall': {'value': 0.8556430446194225},\n",
       "   'f1': {'value': 0.8560175054704595},\n",
       "   'roc_auc': {'value': 0.8345336952334884}}},\n",
       " array([1, 1, 0, ..., 1, 1, 1], dtype=int64))"
      ]
     },
     "execution_count": 23,
     "metadata": {},
     "output_type": "execute_result"
    }
   ],
   "source": [
    "evaluation_lr(model_path='models_joblib/gen_lr_model.joblib', test_features_data='datasets/gen_test_features.csv', test_labels_data='datasets/gen_test_labels.csv', evaluation_output_path='evaluation_results_json/gen_lr_evaluation.json')"
   ]
  },
  {
   "cell_type": "code",
   "execution_count": 24,
   "metadata": {},
   "outputs": [
    {
     "name": "stdout",
     "output_type": "stream",
     "text": [
      "Test Set Metrics"
     ]
    },
    {
     "name": "stdout",
     "output_type": "stream",
     "text": [
      "\n",
      "Accuracy: 0.8422354104846687\n",
      "Precision: 0.0\n",
      "Recall: 0.0\n",
      "F1 Score: 0.0\n",
      "ROC AUC: 0.5\n",
      "Confusion Matrix: \n",
      "[[1703    0]\n",
      " [ 319    0]]\n",
      "Classification Report: \n",
      "              precision    recall  f1-score   support\n",
      "\n",
      "           0       0.84      1.00      0.91      1703\n",
      "           1       0.00      0.00      0.00       319\n",
      "\n",
      "    accuracy                           0.84      2022\n",
      "   macro avg       0.42      0.50      0.46      2022\n",
      "weighted avg       0.71      0.84      0.77      2022\n",
      "\n"
     ]
    },
    {
     "data": {
      "text/plain": [
       "({'classification_metrics': {'accuracy': {'value': 0.8422354104846687},\n",
       "   'precision': {'value': 0.0},\n",
       "   'recall': {'value': 0.0},\n",
       "   'f1': {'value': 0.0},\n",
       "   'roc_auc': {'value': 0.5}}},\n",
       " array([0, 0, 0, ..., 0, 0, 0], dtype=int64))"
      ]
     },
     "execution_count": 24,
     "metadata": {},
     "output_type": "execute_result"
    }
   ],
   "source": [
    "evaluation_lr(model_path='models_joblib/omox_lr_model.joblib', test_features_data='datasets/omox_test_features.csv', test_labels_data='datasets/omox_test_labels.csv', evaluation_output_path='evaluation_results_json/omox_lr_evaluation.json')"
   ]
  },
  {
   "cell_type": "code",
   "execution_count": 25,
   "metadata": {},
   "outputs": [
    {
     "name": "stdout",
     "output_type": "stream",
     "text": [
      "Validation Set Metrics\n",
      "Accuracy: 0.9017305315203955\n",
      "Precision: 0.0\n",
      "Recall: 0.0\n",
      "F1 Score: 0.0\n",
      "ROC AUC: 0.5\n",
      "Confusion Matrix: \n",
      "[[1459    0]\n",
      " [ 159    0]]\n",
      "Classification Report: \n",
      "              precision    recall  f1-score   support\n",
      "\n",
      "           0       0.90      1.00      0.95      1459\n",
      "           1       0.00      0.00      0.00       159\n",
      "\n",
      "    accuracy                           0.90      1618\n",
      "   macro avg       0.45      0.50      0.47      1618\n",
      "weighted avg       0.81      0.90      0.86      1618\n",
      "\n",
      "Training Accuracy: 0.9013605442176871\n",
      "Validation Accuracy: 0.9017305315203955\n",
      "Saving model to models_joblib/cip_dtc_model.joblib\n"
     ]
    }
   ],
   "source": [
    "from main import training_dtc\n",
    "training_dtc(train_features_data='datasets/cip_train_features.csv', train_labels_data='datasets/cip_train_labels.csv', val_features_data='datasets/cip_val_features.csv', val_labels_data='datasets/cip_val_labels.csv', model_output_directory='models_joblib/cip_dtc_model.joblib')"
   ]
  },
  {
   "cell_type": "code",
   "execution_count": 26,
   "metadata": {},
   "outputs": [
    {
     "name": "stdout",
     "output_type": "stream",
     "text": [
      "Validation Set Metrics\n",
      "Accuracy: 0.8572311495673671\n",
      "Precision: 0.9311688311688312\n",
      "Recall: 0.8011173184357542\n",
      "F1 Score: 0.8612612612612612\n",
      "ROC AUC: 0.863905823809855\n",
      "Confusion Matrix: \n",
      "[[670  53]\n",
      " [178 717]]\n",
      "Classification Report: \n",
      "              precision    recall  f1-score   support\n",
      "\n",
      "           0       0.79      0.93      0.85       723\n",
      "           1       0.93      0.80      0.86       895\n",
      "\n",
      "    accuracy                           0.86      1618\n",
      "   macro avg       0.86      0.86      0.86      1618\n",
      "weighted avg       0.87      0.86      0.86      1618\n",
      "\n",
      "Training Accuracy: 0.845856524427953\n",
      "Validation Accuracy: 0.8572311495673671\n",
      "Saving model to models_joblib/gen_dtc_model.joblib\n"
     ]
    }
   ],
   "source": [
    "training_dtc(train_features_data='datasets/gen_train_features.csv', train_labels_data='datasets/gen_train_labels.csv', val_features_data='datasets/gen_val_features.csv', val_labels_data='datasets/gen_val_labels.csv', model_output_directory='models_joblib/gen_dtc_model.joblib')"
   ]
  },
  {
   "cell_type": "code",
   "execution_count": 27,
   "metadata": {},
   "outputs": [
    {
     "name": "stdout",
     "output_type": "stream",
     "text": [
      "Validation Set Metrics"
     ]
    },
    {
     "name": "stdout",
     "output_type": "stream",
     "text": [
      "\n",
      "Accuracy: 0.8479604449938195\n",
      "Precision: 0.0\n",
      "Recall: 0.0\n",
      "F1 Score: 0.0\n",
      "ROC AUC: 0.5\n",
      "Confusion Matrix: \n",
      "[[1372    0]\n",
      " [ 246    0]]\n",
      "Classification Report: \n",
      "              precision    recall  f1-score   support\n",
      "\n",
      "           0       0.85      1.00      0.92      1372\n",
      "           1       0.00      0.00      0.00       246\n",
      "\n",
      "    accuracy                           0.85      1618\n",
      "   macro avg       0.42      0.50      0.46      1618\n",
      "weighted avg       0.72      0.85      0.78      1618\n",
      "\n",
      "Training Accuracy: 0.8583797155225726\n",
      "Validation Accuracy: 0.8479604449938195\n",
      "Saving model to models_joblib/omox_dtc_model.joblib\n"
     ]
    }
   ],
   "source": [
    "training_dtc(train_features_data='datasets/omox_train_features.csv', train_labels_data='datasets/omox_train_labels.csv', val_features_data='datasets/omox_val_features.csv', val_labels_data='datasets/omox_val_labels.csv', model_output_directory='models_joblib/omox_dtc_model.joblib')"
   ]
  },
  {
   "cell_type": "code",
   "execution_count": 28,
   "metadata": {},
   "outputs": [
    {
     "name": "stdout",
     "output_type": "stream",
     "text": [
      "Validation Set Metrics\n",
      "Accuracy: 0.8899876390605687\n",
      "Precision: 0.12\n",
      "Recall: 0.018867924528301886\n",
      "F1 Score: 0.03260869565217391\n",
      "ROC AUC: 0.5018945517089761\n",
      "Confusion Matrix: \n",
      "[[1437   22]\n",
      " [ 156    3]]\n",
      "Classification Report: \n",
      "              precision    recall  f1-score   support\n",
      "\n",
      "           0       0.90      0.98      0.94      1459\n",
      "           1       0.12      0.02      0.03       159\n",
      "\n",
      "    accuracy                           0.89      1618\n",
      "   macro avg       0.51      0.50      0.49      1618\n",
      "weighted avg       0.83      0.89      0.85      1618\n",
      "\n",
      "Training Accuracy: 0.8910018552875696\n",
      "Validation Accuracy: 0.8899876390605687\n",
      "Saving model to models_joblib/cip_knn_model.joblib\n"
     ]
    }
   ],
   "source": [
    "from main import training_knn\n",
    "training_knn(train_features_data='datasets/cip_train_features.csv', train_labels_data='datasets/cip_train_labels.csv', val_features_data='datasets/cip_val_features.csv', val_labels_data='datasets/cip_val_labels.csv', model_output_directory='models_joblib/cip_knn_model.joblib')"
   ]
  },
  {
   "cell_type": "code",
   "execution_count": 29,
   "metadata": {},
   "outputs": [
    {
     "name": "stdout",
     "output_type": "stream",
     "text": [
      "Validation Set Metrics\n",
      "Accuracy: 0.826946847960445\n",
      "Precision: 0.8763769889840881\n",
      "Recall: 0.8\n",
      "F1 Score: 0.8364485981308412\n",
      "ROC AUC: 0.83015214384509\n",
      "Confusion Matrix: \n",
      "[[622 101]\n",
      " [179 716]]\n",
      "Classification Report: \n",
      "              precision    recall  f1-score   support\n",
      "\n",
      "           0       0.78      0.86      0.82       723\n",
      "           1       0.88      0.80      0.84       895\n",
      "\n",
      "    accuracy                           0.83      1618\n",
      "   macro avg       0.83      0.83      0.83      1618\n",
      "weighted avg       0.83      0.83      0.83      1618\n",
      "\n",
      "Training Accuracy: 0.826530612244898\n",
      "Validation Accuracy: 0.826946847960445\n",
      "Saving model to models_joblib/gen_knn_model.joblib\n"
     ]
    }
   ],
   "source": [
    "training_knn(train_features_data='datasets/gen_train_features.csv', train_labels_data='datasets/gen_train_labels.csv', val_features_data='datasets/gen_val_features.csv', val_labels_data='datasets/gen_val_labels.csv', model_output_directory='models_joblib/gen_knn_model.joblib')"
   ]
  },
  {
   "cell_type": "code",
   "execution_count": 30,
   "metadata": {},
   "outputs": [
    {
     "name": "stdout",
     "output_type": "stream",
     "text": [
      "Validation Set Metrics\n",
      "Accuracy: 0.8405438813349815\n",
      "Precision: 0.16666666666666666\n",
      "Recall: 0.012195121951219513\n",
      "F1 Score: 0.022727272727272724\n",
      "ROC AUC: 0.5006310886724028\n",
      "Confusion Matrix: \n",
      "[[1357   15]\n",
      " [ 243    3]]\n",
      "Classification Report: \n",
      "              precision    recall  f1-score   support\n",
      "\n",
      "           0       0.85      0.99      0.91      1372\n",
      "           1       0.17      0.01      0.02       246\n",
      "\n",
      "    accuracy                           0.84      1618\n",
      "   macro avg       0.51      0.50      0.47      1618\n",
      "weighted avg       0.74      0.84      0.78      1618\n",
      "\n",
      "Training Accuracy: 0.8503401360544217\n",
      "Validation Accuracy: 0.8405438813349815\n",
      "Saving model to models_joblib/omox_knn_model.joblib\n"
     ]
    }
   ],
   "source": [
    "training_knn(train_features_data='datasets/omox_train_features.csv', train_labels_data='datasets/omox_train_labels.csv', val_features_data='datasets/omox_val_features.csv', val_labels_data='datasets/omox_val_labels.csv', model_output_directory='models_joblib/omox_knn_model.joblib')"
   ]
  },
  {
   "cell_type": "code",
   "execution_count": 31,
   "metadata": {},
   "outputs": [
    {
     "name": "stdout",
     "output_type": "stream",
     "text": [
      "Validation Set Metrics\n",
      "Accuracy: 0.9017305315203955\n",
      "Precision: 0.0\n",
      "Recall: 0.0\n",
      "F1 Score: 0.0\n",
      "ROC AUC: 0.5\n",
      "Confusion Matrix: \n",
      "[[1459    0]\n",
      " [ 159    0]]\n",
      "Classification Report: \n",
      "              precision    recall  f1-score   support\n",
      "\n",
      "           0       0.90      1.00      0.95      1459\n",
      "           1       0.00      0.00      0.00       159\n",
      "\n",
      "    accuracy                           0.90      1618\n",
      "   macro avg       0.45      0.50      0.47      1618\n",
      "weighted avg       0.81      0.90      0.86      1618\n",
      "\n",
      "Training Accuracy: 0.9013605442176871\n",
      "Validation Accuracy: 0.9017305315203955\n",
      "Saving model to models_joblib/cip_rfc_model.joblib\n"
     ]
    }
   ],
   "source": [
    "from main import training_rfc\n",
    "training_rfc(train_features_data='datasets/cip_train_features.csv', train_labels_data='datasets/cip_train_labels.csv', val_features_data='datasets/cip_val_features.csv', val_labels_data='datasets/cip_val_labels.csv', model_output_directory='models_joblib/cip_rfc_model.joblib')"
   ]
  },
  {
   "cell_type": "code",
   "execution_count": 32,
   "metadata": {},
   "outputs": [
    {
     "name": "stdout",
     "output_type": "stream",
     "text": [
      "Validation Set Metrics\n",
      "Accuracy: 0.8566131025957973\n",
      "Precision: 0.9288486416558862\n",
      "Recall: 0.8022346368715084\n",
      "F1 Score: 0.8609112709832135\n",
      "ROC AUC: 0.8630813571632784\n",
      "Confusion Matrix: \n",
      "[[668  55]\n",
      " [177 718]]\n",
      "Classification Report: \n",
      "              precision    recall  f1-score   support\n",
      "\n",
      "           0       0.79      0.92      0.85       723\n",
      "           1       0.93      0.80      0.86       895\n",
      "\n",
      "    accuracy                           0.86      1618\n",
      "   macro avg       0.86      0.86      0.86      1618\n",
      "weighted avg       0.87      0.86      0.86      1618\n",
      "\n",
      "Training Accuracy: 0.845856524427953\n",
      "Validation Accuracy: 0.8566131025957973\n",
      "Saving model to models_joblib/gen_rfc_model.joblib\n"
     ]
    }
   ],
   "source": [
    "training_rfc(train_features_data='datasets/gen_train_features.csv', train_labels_data='datasets/gen_train_labels.csv', val_features_data='datasets/gen_val_features.csv', val_labels_data='datasets/gen_val_labels.csv', model_output_directory='models_joblib/gen_rfc_model.joblib')"
   ]
  },
  {
   "cell_type": "code",
   "execution_count": 33,
   "metadata": {},
   "outputs": [
    {
     "name": "stdout",
     "output_type": "stream",
     "text": [
      "Validation Set Metrics\n",
      "Accuracy: 0.8467243510506799\n",
      "Precision: 0.0\n",
      "Recall: 0.0\n",
      "F1 Score: 0.0\n",
      "ROC AUC: 0.49927113702623904\n",
      "Confusion Matrix: \n",
      "[[1370    2]\n",
      " [ 246    0]]\n",
      "Classification Report: \n",
      "              precision    recall  f1-score   support\n",
      "\n",
      "           0       0.85      1.00      0.92      1372\n",
      "           1       0.00      0.00      0.00       246\n",
      "\n",
      "    accuracy                           0.85      1618\n",
      "   macro avg       0.42      0.50      0.46      1618\n",
      "weighted avg       0.72      0.85      0.78      1618\n",
      "\n",
      "Training Accuracy: 0.8583797155225726\n",
      "Validation Accuracy: 0.8467243510506799\n",
      "Saving model to models_joblib/omox_rfc_model.joblib\n"
     ]
    }
   ],
   "source": [
    "training_rfc(train_features_data='datasets/omox_train_features.csv', train_labels_data='datasets/omox_train_labels.csv', val_features_data='datasets/omox_val_features.csv', val_labels_data='datasets/omox_val_labels.csv', model_output_directory='models_joblib/omox_rfc_model.joblib')"
   ]
  },
  {
   "cell_type": "code",
   "execution_count": 34,
   "metadata": {},
   "outputs": [
    {
     "name": "stdout",
     "output_type": "stream",
     "text": [
      "Validation Set Metrics\n",
      "Accuracy: 0.9017305315203955\n",
      "Precision: 0.0\n",
      "Recall: 0.0\n",
      "F1 Score: 0.0\n",
      "ROC AUC: 0.5\n",
      "Confusion Matrix: \n",
      "[[1459    0]\n",
      " [ 159    0]]\n",
      "Classification Report: \n",
      "              precision    recall  f1-score   support\n",
      "\n",
      "           0       0.90      1.00      0.95      1459\n",
      "           1       0.00      0.00      0.00       159\n",
      "\n",
      "    accuracy                           0.90      1618\n",
      "   macro avg       0.45      0.50      0.47      1618\n",
      "weighted avg       0.81      0.90      0.86      1618\n",
      "\n",
      "Training Accuracy: 0.9013605442176871\n",
      "Validation Accuracy: 0.9017305315203955\n",
      "Saving model to models_joblib/cip_gbc_model.joblib\n"
     ]
    }
   ],
   "source": [
    "from main import training_gbc\n",
    "training_gbc(train_features_data='datasets/cip_train_features.csv', train_labels_data='datasets/cip_train_labels.csv', val_features_data='datasets/cip_val_features.csv', val_labels_data='datasets/cip_val_labels.csv', model_output_directory='models_joblib/cip_gbc_model.joblib')"
   ]
  },
  {
   "cell_type": "code",
   "execution_count": 35,
   "metadata": {},
   "outputs": [
    {
     "name": "stdout",
     "output_type": "stream",
     "text": [
      "Validation Set Metrics\n",
      "Accuracy: 0.8572311495673671\n",
      "Precision: 0.9300518134715026\n",
      "Recall: 0.8022346368715084\n",
      "F1 Score: 0.8614277144571085\n",
      "ROC AUC: 0.8637729200955052\n",
      "Confusion Matrix: \n",
      "[[669  54]\n",
      " [177 718]]\n",
      "Classification Report: \n",
      "              precision    recall  f1-score   support\n",
      "\n",
      "           0       0.79      0.93      0.85       723\n",
      "           1       0.93      0.80      0.86       895\n",
      "\n",
      "    accuracy                           0.86      1618\n",
      "   macro avg       0.86      0.86      0.86      1618\n",
      "weighted avg       0.87      0.86      0.86      1618\n",
      "\n",
      "Training Accuracy: 0.8432282003710575\n",
      "Validation Accuracy: 0.8572311495673671\n",
      "Saving model to models_joblib/gen_gbc_model.joblib\n"
     ]
    }
   ],
   "source": [
    "training_gbc(train_features_data='datasets/gen_train_features.csv', train_labels_data='datasets/gen_train_labels.csv', val_features_data='datasets/gen_val_features.csv', val_labels_data='datasets/gen_val_labels.csv', model_output_directory='models_joblib/gen_gbc_model.joblib')"
   ]
  },
  {
   "cell_type": "code",
   "execution_count": 36,
   "metadata": {},
   "outputs": [
    {
     "name": "stdout",
     "output_type": "stream",
     "text": [
      "Validation Set Metrics\n",
      "Accuracy: 0.8479604449938195\n",
      "Precision: 0.0\n",
      "Recall: 0.0\n",
      "F1 Score: 0.0\n",
      "ROC AUC: 0.5\n",
      "Confusion Matrix: \n",
      "[[1372    0]\n",
      " [ 246    0]]\n",
      "Classification Report: \n",
      "              precision    recall  f1-score   support\n",
      "\n",
      "           0       0.85      1.00      0.92      1372\n",
      "           1       0.00      0.00      0.00       246\n",
      "\n",
      "    accuracy                           0.85      1618\n",
      "   macro avg       0.42      0.50      0.46      1618\n",
      "weighted avg       0.72      0.85      0.78      1618\n",
      "\n",
      "Training Accuracy: 0.8583797155225726\n",
      "Validation Accuracy: 0.8479604449938195\n",
      "Saving model to models_joblib/omox_gbc_model.joblib\n"
     ]
    }
   ],
   "source": [
    "training_gbc(train_features_data='datasets/omox_train_features.csv', train_labels_data='datasets/omox_train_labels.csv', val_features_data='datasets/omox_val_features.csv', val_labels_data='datasets/omox_val_labels.csv', model_output_directory='models_joblib/omox_gbc_model.joblib')"
   ]
  },
  {
   "cell_type": "code",
   "execution_count": 37,
   "metadata": {},
   "outputs": [
    {
     "name": "stdout",
     "output_type": "stream",
     "text": [
      "Validation Set Metrics\n",
      "Accuracy: 0.9017305315203955\n",
      "Precision: 0.0\n",
      "Recall: 0.0\n",
      "F1 Score: 0.0\n",
      "ROC AUC: 0.5\n",
      "Confusion Matrix: \n",
      "[[1459    0]\n",
      " [ 159    0]]\n",
      "Classification Report: \n",
      "              precision    recall  f1-score   support\n",
      "\n",
      "           0       0.90      1.00      0.95      1459\n",
      "           1       0.00      0.00      0.00       159\n",
      "\n",
      "    accuracy                           0.90      1618\n",
      "   macro avg       0.45      0.50      0.47      1618\n",
      "weighted avg       0.81      0.90      0.86      1618\n",
      "\n",
      "Training Accuracy: 0.9013605442176871\n",
      "Validation Accuracy: 0.9017305315203955\n",
      "Saving model to models_joblib/cip_bc_model.joblib\n"
     ]
    }
   ],
   "source": [
    "from main import training_bc\n",
    "training_bc(train_features_data='datasets/cip_train_features.csv', train_labels_data='datasets/cip_train_labels.csv', val_features_data='datasets/cip_val_features.csv', val_labels_data='datasets/cip_val_labels.csv', model_output_directory='models_joblib/cip_bc_model.joblib')"
   ]
  },
  {
   "cell_type": "code",
   "execution_count": 38,
   "metadata": {},
   "outputs": [
    {
     "name": "stdout",
     "output_type": "stream",
     "text": [
      "Validation Set Metrics\n",
      "Accuracy: 0.8547589616810878\n",
      "Precision: 0.927461139896373\n",
      "Recall: 0.8\n",
      "F1 Score: 0.8590281943611278\n",
      "ROC AUC: 0.8612724757952974\n",
      "Confusion Matrix: \n",
      "[[667  56]\n",
      " [179 716]]\n",
      "Classification Report: \n",
      "              precision    recall  f1-score   support\n",
      "\n",
      "           0       0.79      0.92      0.85       723\n",
      "           1       0.93      0.80      0.86       895\n",
      "\n",
      "    accuracy                           0.85      1618\n",
      "   macro avg       0.86      0.86      0.85      1618\n",
      "weighted avg       0.87      0.85      0.86      1618\n",
      "\n",
      "Training Accuracy: 0.8453927025355596\n",
      "Validation Accuracy: 0.8547589616810878\n",
      "Saving model to models_joblib/gen_bc_model.joblib\n"
     ]
    }
   ],
   "source": [
    "training_bc(train_features_data='datasets/gen_train_features.csv', train_labels_data='datasets/gen_train_labels.csv', val_features_data='datasets/gen_val_features.csv', val_labels_data='datasets/gen_val_labels.csv', model_output_directory='models_joblib/gen_bc_model.joblib')"
   ]
  },
  {
   "cell_type": "code",
   "execution_count": 39,
   "metadata": {},
   "outputs": [
    {
     "name": "stdout",
     "output_type": "stream",
     "text": [
      "Validation Set Metrics\n",
      "Accuracy: 0.8467243510506799\n",
      "Precision: 0.0\n",
      "Recall: 0.0\n",
      "F1 Score: 0.0\n",
      "ROC AUC: 0.49927113702623904\n",
      "Confusion Matrix: \n",
      "[[1370    2]\n",
      " [ 246    0]]\n",
      "Classification Report: \n",
      "              precision    recall  f1-score   support\n",
      "\n",
      "           0       0.85      1.00      0.92      1372\n",
      "           1       0.00      0.00      0.00       246\n",
      "\n",
      "    accuracy                           0.85      1618\n",
      "   macro avg       0.42      0.50      0.46      1618\n",
      "weighted avg       0.72      0.85      0.78      1618\n",
      "\n",
      "Training Accuracy: 0.8583797155225726\n",
      "Validation Accuracy: 0.8467243510506799\n",
      "Saving model to models_joblib/omox_bc_model.joblib\n"
     ]
    }
   ],
   "source": [
    "training_bc(train_features_data='datasets/omox_train_features.csv', train_labels_data='datasets/omox_train_labels.csv', val_features_data='datasets/omox_val_features.csv', val_labels_data='datasets/omox_val_labels.csv', model_output_directory='models_joblib/omox_bc_model.joblib')"
   ]
  },
  {
   "cell_type": "code",
   "execution_count": 40,
   "metadata": {},
   "outputs": [
    {
     "name": "stdout",
     "output_type": "stream",
     "text": [
      "Validation Set Metrics\n",
      "Accuracy: 0.9017305315203955\n",
      "Precision: 0.0\n",
      "Recall: 0.0\n",
      "F1 Score: 0.0\n",
      "ROC AUC: 0.5\n",
      "Confusion Matrix: \n",
      "[[1459    0]\n",
      " [ 159    0]]\n",
      "Classification Report: \n",
      "              precision    recall  f1-score   support\n",
      "\n",
      "           0       0.90      1.00      0.95      1459\n",
      "           1       0.00      0.00      0.00       159\n",
      "\n",
      "    accuracy                           0.90      1618\n",
      "   macro avg       0.45      0.50      0.47      1618\n",
      "weighted avg       0.81      0.90      0.86      1618\n",
      "\n",
      "Training Accuracy: 0.9013605442176871\n",
      "Validation Accuracy: 0.9017305315203955\n",
      "Saving model to models_joblib/cip_abc_model.joblib\n"
     ]
    }
   ],
   "source": [
    "from main import training_abc\n",
    "training_abc(train_features_data='datasets/cip_train_features.csv', train_labels_data='datasets/cip_train_labels.csv', val_features_data='datasets/cip_val_features.csv', val_labels_data='datasets/cip_val_labels.csv', model_output_directory='models_joblib/cip_abc_model.joblib')"
   ]
  },
  {
   "cell_type": "code",
   "execution_count": 41,
   "metadata": {},
   "outputs": [
    {
     "name": "stdout",
     "output_type": "stream",
     "text": [
      "Validation Set Metrics\n",
      "Accuracy: 0.8572311495673671\n",
      "Precision: 0.9300518134715026\n",
      "Recall: 0.8022346368715084\n",
      "F1 Score: 0.8614277144571085\n",
      "ROC AUC: 0.8637729200955052\n",
      "Confusion Matrix: \n",
      "[[669  54]\n",
      " [177 718]]\n",
      "Classification Report: \n",
      "              precision    recall  f1-score   support\n",
      "\n",
      "           0       0.79      0.93      0.85       723\n",
      "           1       0.93      0.80      0.86       895\n",
      "\n",
      "    accuracy                           0.86      1618\n",
      "   macro avg       0.86      0.86      0.86      1618\n",
      "weighted avg       0.87      0.86      0.86      1618\n",
      "\n",
      "Training Accuracy: 0.8432282003710575\n",
      "Validation Accuracy: 0.8572311495673671\n",
      "Saving model to models_joblib/gen_abc_model.joblib\n"
     ]
    }
   ],
   "source": [
    "training_abc(train_features_data='datasets/gen_train_features.csv', train_labels_data='datasets/gen_train_labels.csv', val_features_data='datasets/gen_val_features.csv', val_labels_data='datasets/gen_val_labels.csv', model_output_directory='models_joblib/gen_abc_model.joblib')"
   ]
  },
  {
   "cell_type": "code",
   "execution_count": 42,
   "metadata": {},
   "outputs": [
    {
     "name": "stdout",
     "output_type": "stream",
     "text": [
      "Validation Set Metrics\n",
      "Accuracy: 0.8479604449938195\n",
      "Precision: 0.0\n",
      "Recall: 0.0\n",
      "F1 Score: 0.0\n",
      "ROC AUC: 0.5\n",
      "Confusion Matrix: \n",
      "[[1372    0]\n",
      " [ 246    0]]\n",
      "Classification Report: \n",
      "              precision    recall  f1-score   support\n",
      "\n",
      "           0       0.85      1.00      0.92      1372\n",
      "           1       0.00      0.00      0.00       246\n",
      "\n",
      "    accuracy                           0.85      1618\n",
      "   macro avg       0.42      0.50      0.46      1618\n",
      "weighted avg       0.72      0.85      0.78      1618\n",
      "\n",
      "Training Accuracy: 0.8583797155225726\n",
      "Validation Accuracy: 0.8479604449938195\n",
      "Saving model to models_joblib/omox_abc_model.joblib\n"
     ]
    }
   ],
   "source": [
    "training_abc(train_features_data='datasets/omox_train_features.csv', train_labels_data='datasets/omox_train_labels.csv', val_features_data='datasets/omox_val_features.csv', val_labels_data='datasets/omox_val_labels.csv', model_output_directory='models_joblib/omox_abc_model.joblib')"
   ]
  },
  {
   "cell_type": "code",
   "execution_count": 43,
   "metadata": {},
   "outputs": [
    {
     "name": "stdout",
     "output_type": "stream",
     "text": [
      "Validation Set Metrics\n",
      "Accuracy: 0.9017305315203955\n",
      "Precision: 0.0\n",
      "Recall: 0.0\n",
      "F1 Score: 0.0\n",
      "ROC AUC: 0.5\n",
      "Confusion Matrix: \n",
      "[[1459    0]\n",
      " [ 159    0]]\n",
      "Classification Report: \n",
      "              precision    recall  f1-score   support\n",
      "\n",
      "           0       0.90      1.00      0.95      1459\n",
      "           1       0.00      0.00      0.00       159\n",
      "\n",
      "    accuracy                           0.90      1618\n",
      "   macro avg       0.45      0.50      0.47      1618\n",
      "weighted avg       0.81      0.90      0.86      1618\n",
      "\n",
      "Training Accuracy: 0.9013605442176871\n",
      "Validation Accuracy: 0.9017305315203955\n",
      "Saving model to models_joblib/cip_xgbc_model.joblib\n"
     ]
    }
   ],
   "source": [
    "from main import training_xgbc\n",
    "training_xgbc(train_features_data='datasets/cip_train_features.csv', train_labels_data='datasets/cip_train_labels.csv', val_features_data='datasets/cip_val_features.csv', val_labels_data='datasets/cip_val_labels.csv', model_output_directory='models_joblib/cip_xgbc_model.joblib')"
   ]
  },
  {
   "cell_type": "code",
   "execution_count": 44,
   "metadata": {},
   "outputs": [
    {
     "name": "stdout",
     "output_type": "stream",
     "text": [
      "Validation Set Metrics\n",
      "Accuracy: 0.8572311495673671\n",
      "Precision: 0.9322916666666666\n",
      "Recall: 0.8\n",
      "F1 Score: 0.8610944076969332\n",
      "ROC AUC: 0.8640387275242047\n",
      "Confusion Matrix: \n",
      "[[671  52]\n",
      " [179 716]]\n",
      "Classification Report: \n",
      "              precision    recall  f1-score   support\n",
      "\n",
      "           0       0.79      0.93      0.85       723\n",
      "           1       0.93      0.80      0.86       895\n",
      "\n",
      "    accuracy                           0.86      1618\n",
      "   macro avg       0.86      0.86      0.86      1618\n",
      "weighted avg       0.87      0.86      0.86      1618\n",
      "\n",
      "Training Accuracy: 0.8457019171304886\n",
      "Validation Accuracy: 0.8572311495673671\n",
      "Saving model to models_joblib/gen_xgbc_model.joblib\n"
     ]
    }
   ],
   "source": [
    "training_xgbc(train_features_data='datasets/gen_train_features.csv', train_labels_data='datasets/gen_train_labels.csv', val_features_data='datasets/gen_val_features.csv', val_labels_data='datasets/gen_val_labels.csv', model_output_directory='models_joblib/gen_xgbc_model.joblib')"
   ]
  },
  {
   "cell_type": "code",
   "execution_count": 45,
   "metadata": {},
   "outputs": [
    {
     "name": "stdout",
     "output_type": "stream",
     "text": [
      "Validation Set Metrics\n",
      "Accuracy: 0.8479604449938195\n",
      "Precision: 0.0\n",
      "Recall: 0.0\n",
      "F1 Score: 0.0\n",
      "ROC AUC: 0.5\n",
      "Confusion Matrix: \n",
      "[[1372    0]\n",
      " [ 246    0]]\n",
      "Classification Report: \n",
      "              precision    recall  f1-score   support\n",
      "\n",
      "           0       0.85      1.00      0.92      1372\n",
      "           1       0.00      0.00      0.00       246\n",
      "\n",
      "    accuracy                           0.85      1618\n",
      "   macro avg       0.42      0.50      0.46      1618\n",
      "weighted avg       0.72      0.85      0.78      1618\n",
      "\n",
      "Training Accuracy: 0.8583797155225726\n",
      "Validation Accuracy: 0.8479604449938195\n",
      "Saving model to models_joblib/omox_xgbc_model.joblib\n"
     ]
    }
   ],
   "source": [
    "training_xgbc(train_features_data='datasets/omox_train_features.csv', train_labels_data='datasets/omox_train_labels.csv', val_features_data='datasets/omox_val_features.csv', val_labels_data='datasets/omox_val_labels.csv', model_output_directory='models_joblib/omox_xgbc_model.joblib')"
   ]
  },
  {
   "cell_type": "code",
   "execution_count": 46,
   "metadata": {},
   "outputs": [
    {
     "name": "stdout",
     "output_type": "stream",
     "text": [
      "Validation Set Metrics\n",
      "Accuracy: 0.9017305315203955\n",
      "Precision: 0.0\n",
      "Recall: 0.0\n",
      "F1 Score: 0.0\n",
      "ROC AUC: 0.5\n",
      "Confusion Matrix: \n",
      "[[1459    0]\n",
      " [ 159    0]]\n",
      "Classification Report: \n",
      "              precision    recall  f1-score   support\n",
      "\n",
      "           0       0.90      1.00      0.95      1459\n",
      "           1       0.00      0.00      0.00       159\n",
      "\n",
      "    accuracy                           0.90      1618\n",
      "   macro avg       0.45      0.50      0.47      1618\n",
      "weighted avg       0.81      0.90      0.86      1618\n",
      "\n",
      "Training Accuracy: 0.9013605442176871\n",
      "Validation Accuracy: 0.9017305315203955\n",
      "Saving model to models_joblib/cip_svc_model.joblib\n"
     ]
    }
   ],
   "source": [
    "from main import training_svc\n",
    "training_svc(train_features_data='datasets/cip_train_features.csv', train_labels_data='datasets/cip_train_labels.csv', val_features_data='datasets/cip_val_features.csv', val_labels_data='datasets/cip_val_labels.csv', model_output_directory='models_joblib/cip_svc_model.joblib')"
   ]
  },
  {
   "cell_type": "code",
   "execution_count": 47,
   "metadata": {},
   "outputs": [
    {
     "name": "stdout",
     "output_type": "stream",
     "text": [
      "Validation Set Metrics\n",
      "Accuracy: 0.8547589616810878\n",
      "Precision: 0.9423592493297587\n",
      "Recall: 0.7854748603351955\n",
      "F1 Score: 0.8567946374162096\n",
      "ROC AUC: 0.863000224081844\n",
      "Confusion Matrix: \n",
      "[[680  43]\n",
      " [192 703]]\n",
      "Classification Report: \n",
      "              precision    recall  f1-score   support\n",
      "\n",
      "           0       0.78      0.94      0.85       723\n",
      "           1       0.94      0.79      0.86       895\n",
      "\n",
      "    accuracy                           0.85      1618\n",
      "   macro avg       0.86      0.86      0.85      1618\n",
      "weighted avg       0.87      0.85      0.85      1618\n",
      "\n",
      "Training Accuracy: 0.8409090909090909\n",
      "Validation Accuracy: 0.8547589616810878\n",
      "Saving model to models_joblib/gen_svc_model.joblib\n"
     ]
    }
   ],
   "source": [
    "training_svc(train_features_data='datasets/gen_train_features.csv', train_labels_data='datasets/gen_train_labels.csv', val_features_data='datasets/gen_val_features.csv', val_labels_data='datasets/gen_val_labels.csv', model_output_directory='models_joblib/gen_svc_model.joblib')"
   ]
  },
  {
   "cell_type": "code",
   "execution_count": 48,
   "metadata": {},
   "outputs": [
    {
     "name": "stdout",
     "output_type": "stream",
     "text": [
      "Validation Set Metrics\n",
      "Accuracy: 0.8479604449938195\n",
      "Precision: 0.0\n",
      "Recall: 0.0\n",
      "F1 Score: 0.0\n",
      "ROC AUC: 0.5\n",
      "Confusion Matrix: \n",
      "[[1372    0]\n",
      " [ 246    0]]\n",
      "Classification Report: \n",
      "              precision    recall  f1-score   support\n",
      "\n",
      "           0       0.85      1.00      0.92      1372\n",
      "           1       0.00      0.00      0.00       246\n",
      "\n",
      "    accuracy                           0.85      1618\n",
      "   macro avg       0.42      0.50      0.46      1618\n",
      "weighted avg       0.72      0.85      0.78      1618\n",
      "\n",
      "Training Accuracy: 0.8583797155225726\n",
      "Validation Accuracy: 0.8479604449938195\n",
      "Saving model to models_joblib/omox_svc_model.joblib\n"
     ]
    }
   ],
   "source": [
    "training_svc(train_features_data='datasets/omox_train_features.csv', train_labels_data='datasets/omox_train_labels.csv', val_features_data='datasets/omox_val_features.csv', val_labels_data='datasets/omox_val_labels.csv', model_output_directory='models_joblib/omox_svc_model.joblib')"
   ]
  },
  {
   "cell_type": "code",
   "execution_count": 49,
   "metadata": {},
   "outputs": [
    {
     "name": "stdout",
     "output_type": "stream",
     "text": [
      "Validation Set Metrics\n",
      "Accuracy: 0.9017305315203955\n",
      "Precision: 0.0\n",
      "Recall: 0.0\n",
      "F1 Score: 0.0\n",
      "ROC AUC: 0.5\n",
      "Confusion Matrix: \n",
      "[[1459    0]\n",
      " [ 159    0]]\n",
      "Classification Report: \n",
      "              precision    recall  f1-score   support\n",
      "\n",
      "           0       0.90      1.00      0.95      1459\n",
      "           1       0.00      0.00      0.00       159\n",
      "\n",
      "    accuracy                           0.90      1618\n",
      "   macro avg       0.45      0.50      0.47      1618\n",
      "weighted avg       0.81      0.90      0.86      1618\n",
      "\n",
      "Training Accuracy: 0.9013605442176871\n",
      "Validation Accuracy: 0.9017305315203955\n",
      "Saving model to models_joblib/cip_nb_model.joblib\n"
     ]
    }
   ],
   "source": [
    "from main import training_nb\n",
    "training_nb(train_features_data='datasets/cip_train_features.csv', train_labels_data='datasets/cip_train_labels.csv', val_features_data='datasets/cip_val_features.csv', val_labels_data='datasets/cip_val_labels.csv', model_output_directory='models_joblib/cip_nb_model.joblib')"
   ]
  },
  {
   "cell_type": "code",
   "execution_count": 50,
   "metadata": {},
   "outputs": [
    {
     "name": "stdout",
     "output_type": "stream",
     "text": [
      "Validation Set Metrics\n",
      "Accuracy: 0.8393077873918418\n",
      "Precision: 0.8628571428571429\n",
      "Recall: 0.8435754189944135\n",
      "F1 Score: 0.8531073446327684\n",
      "ROC AUC: 0.8388001576299867\n",
      "Confusion Matrix: \n",
      "[[603 120]\n",
      " [140 755]]\n",
      "Classification Report: \n",
      "              precision    recall  f1-score   support\n",
      "\n",
      "           0       0.81      0.83      0.82       723\n",
      "           1       0.86      0.84      0.85       895\n",
      "\n",
      "    accuracy                           0.84      1618\n",
      "   macro avg       0.84      0.84      0.84      1618\n",
      "weighted avg       0.84      0.84      0.84      1618\n",
      "\n",
      "Training Accuracy: 0.8239022881880025\n",
      "Validation Accuracy: 0.8393077873918418\n",
      "Saving model to models_joblib/gen_nb_model.joblib\n"
     ]
    }
   ],
   "source": [
    "training_nb(train_features_data='datasets/gen_train_features.csv', train_labels_data='datasets/gen_train_labels.csv', val_features_data='datasets/gen_val_features.csv', val_labels_data='datasets/gen_val_labels.csv', model_output_directory='models_joblib/gen_nb_model.joblib')"
   ]
  },
  {
   "cell_type": "code",
   "execution_count": 51,
   "metadata": {},
   "outputs": [
    {
     "name": "stdout",
     "output_type": "stream",
     "text": [
      "Validation Set Metrics"
     ]
    },
    {
     "name": "stdout",
     "output_type": "stream",
     "text": [
      "\n",
      "Accuracy: 0.8479604449938195\n",
      "Precision: 0.0\n",
      "Recall: 0.0\n",
      "F1 Score: 0.0\n",
      "ROC AUC: 0.5\n",
      "Confusion Matrix: \n",
      "[[1372    0]\n",
      " [ 246    0]]\n",
      "Classification Report: \n",
      "              precision    recall  f1-score   support\n",
      "\n",
      "           0       0.85      1.00      0.92      1372\n",
      "           1       0.00      0.00      0.00       246\n",
      "\n",
      "    accuracy                           0.85      1618\n",
      "   macro avg       0.42      0.50      0.46      1618\n",
      "weighted avg       0.72      0.85      0.78      1618\n",
      "\n",
      "Training Accuracy: 0.8583797155225726\n",
      "Validation Accuracy: 0.8479604449938195\n",
      "Saving model to models_joblib/omox_nb_model.joblib\n"
     ]
    }
   ],
   "source": [
    "training_nb(train_features_data='datasets/omox_train_features.csv', train_labels_data='datasets/omox_train_labels.csv', val_features_data='datasets/omox_val_features.csv', val_labels_data='datasets/omox_val_labels.csv', model_output_directory='models_joblib/omox_nb_model.joblib')"
   ]
  },
  {
   "cell_type": "code",
   "execution_count": 52,
   "metadata": {},
   "outputs": [
    {
     "name": "stdout",
     "output_type": "stream",
     "text": [
      "Test Set Metrics\n",
      "Accuracy: 0.8986152324431256\n",
      "Precision: 0.0\n",
      "Recall: 0.0\n",
      "F1 Score: 0.0\n",
      "ROC AUC: 0.5\n",
      "Confusion Matrix: \n",
      "[[1817    0]\n",
      " [ 205    0]]\n",
      "Classification Report: \n",
      "              precision    recall  f1-score   support\n",
      "\n",
      "           0       0.90      1.00      0.95      1817\n",
      "           1       0.00      0.00      0.00       205\n",
      "\n",
      "    accuracy                           0.90      2022\n",
      "   macro avg       0.45      0.50      0.47      2022\n",
      "weighted avg       0.81      0.90      0.85      2022\n",
      "\n"
     ]
    }
   ],
   "source": [
    "from main import evaluation_dtc\n",
    "evaluation_dtc(model_path='models_joblib/cip_dtc_model.joblib', test_features_data='datasets/cip_test_features.csv', test_labels_data='datasets/cip_test_labels.csv', evaluation_output_path='evaluation_results_json/cip_dtc_evaluation.json')"
   ]
  },
  {
   "cell_type": "code",
   "execution_count": 61,
   "metadata": {},
   "outputs": [
    {
     "name": "stdout",
     "output_type": "stream",
     "text": [
      "Test Set Metrics\n",
      "Accuracy: 0.8565776458951533\n",
      "Precision: 0.9392378990731205\n",
      "Recall: 0.7979002624671916\n",
      "F1 Score: 0.8628192999053926\n",
      "ROC AUC: 0.8653892666147107\n",
      "Confusion Matrix: \n",
      "[[820  59]\n",
      " [231 912]]\n",
      "Classification Report: \n",
      "              precision    recall  f1-score   support\n",
      "\n",
      "           0       0.78      0.93      0.85       879\n",
      "           1       0.94      0.80      0.86      1143\n",
      "\n",
      "    accuracy                           0.86      2022\n",
      "   macro avg       0.86      0.87      0.86      2022\n",
      "weighted avg       0.87      0.86      0.86      2022\n",
      "\n"
     ]
    }
   ],
   "source": [
    "evaluation_dtc(model_path='models_joblib/gen_dtc_model.joblib', test_features_data='datasets/gen_test_features.csv', test_labels_data='datasets/gen_test_labels.csv', evaluation_output_path='evaluation_results_json/gen_dtc_evaluation.json')"
   ]
  },
  {
   "cell_type": "code",
   "execution_count": 62,
   "metadata": {},
   "outputs": [
    {
     "name": "stdout",
     "output_type": "stream",
     "text": [
      "Test Set Metrics\n",
      "Accuracy: 0.8422354104846687\n",
      "Precision: 0.0\n",
      "Recall: 0.0\n",
      "F1 Score: 0.0\n",
      "ROC AUC: 0.5\n",
      "Confusion Matrix: \n",
      "[[1703    0]\n",
      " [ 319    0]]\n",
      "Classification Report: \n",
      "              precision    recall  f1-score   support\n",
      "\n",
      "           0       0.84      1.00      0.91      1703\n",
      "           1       0.00      0.00      0.00       319\n",
      "\n",
      "    accuracy                           0.84      2022\n",
      "   macro avg       0.42      0.50      0.46      2022\n",
      "weighted avg       0.71      0.84      0.77      2022\n",
      "\n"
     ]
    }
   ],
   "source": [
    "evaluation_dtc(model_path='models_joblib/omox_dtc_model.joblib', test_features_data='datasets/omox_test_features.csv', test_labels_data='datasets/omox_test_labels.csv', evaluation_output_path='evaluation_results_json/omox_dtc_evaluation.json')"
   ]
  },
  {
   "cell_type": "code",
   "execution_count": 53,
   "metadata": {},
   "outputs": [
    {
     "name": "stdout",
     "output_type": "stream",
     "text": [
      "Test Set Metrics\n",
      "Accuracy: 0.8882294757665677\n",
      "Precision: 0.16129032258064516\n",
      "Recall: 0.024390243902439025\n",
      "F1 Score: 0.04237288135593221\n",
      "ROC AUC: 0.5050404714283797\n",
      "Confusion Matrix: \n",
      "[[1791   26]\n",
      " [ 200    5]]\n",
      "Classification Report: \n",
      "              precision    recall  f1-score   support\n",
      "\n",
      "           0       0.90      0.99      0.94      1817\n",
      "           1       0.16      0.02      0.04       205\n",
      "\n",
      "    accuracy                           0.89      2022\n",
      "   macro avg       0.53      0.51      0.49      2022\n",
      "weighted avg       0.82      0.89      0.85      2022\n",
      "\n"
     ]
    }
   ],
   "source": [
    "from main import evaluation_knn\n",
    "evaluation_knn(model_path='models_joblib/cip_knn_model.joblib', test_features_data='datasets/cip_test_features.csv', test_labels_data='datasets/cip_test_labels.csv', evaluation_output_path='evaluation_results_json/cip_knn_evaluation.json')"
   ]
  },
  {
   "cell_type": "code",
   "execution_count": 63,
   "metadata": {},
   "outputs": [
    {
     "name": "stdout",
     "output_type": "stream",
     "text": [
      "Test Set Metrics\n",
      "Accuracy: 0.8367952522255193\n",
      "Precision: 0.8912415784408084\n",
      "Recall: 0.8101487314085739\n",
      "F1 Score: 0.8487626031164069\n",
      "ROC AUC: 0.8407967775359139\n",
      "Confusion Matrix: \n",
      "[[766 113]\n",
      " [217 926]]\n",
      "Classification Report: \n",
      "              precision    recall  f1-score   support\n",
      "\n",
      "           0       0.78      0.87      0.82       879\n",
      "           1       0.89      0.81      0.85      1143\n",
      "\n",
      "    accuracy                           0.84      2022\n",
      "   macro avg       0.84      0.84      0.84      2022\n",
      "weighted avg       0.84      0.84      0.84      2022\n",
      "\n"
     ]
    }
   ],
   "source": [
    "evaluation_knn(model_path='models_joblib/gen_knn_model.joblib', test_features_data='datasets/gen_test_features.csv', test_labels_data='datasets/gen_test_labels.csv', evaluation_output_path='evaluation_results_json/gen_knn_evaluation.json')"
   ]
  },
  {
   "cell_type": "code",
   "execution_count": 64,
   "metadata": {},
   "outputs": [
    {
     "name": "stdout",
     "output_type": "stream",
     "text": [
      "Test Set Metrics\n",
      "Accuracy: 0.83135509396637\n",
      "Precision: 0.19444444444444445\n",
      "Recall: 0.0219435736677116\n",
      "F1 Score: 0.039436619718309855\n",
      "ROC AUC: 0.502457400456874\n",
      "Confusion Matrix: \n",
      "[[1674   29]\n",
      " [ 312    7]]\n",
      "Classification Report: \n",
      "              precision    recall  f1-score   support\n",
      "\n",
      "           0       0.84      0.98      0.91      1703\n",
      "           1       0.19      0.02      0.04       319\n",
      "\n",
      "    accuracy                           0.83      2022\n",
      "   macro avg       0.52      0.50      0.47      2022\n",
      "weighted avg       0.74      0.83      0.77      2022\n",
      "\n"
     ]
    }
   ],
   "source": [
    "evaluation_knn(model_path='models_joblib/omox_knn_model.joblib', test_features_data='datasets/omox_test_features.csv', test_labels_data='datasets/omox_test_labels.csv', evaluation_output_path='evaluation_results_json/omox_knn_evaluation.json')"
   ]
  },
  {
   "cell_type": "code",
   "execution_count": 54,
   "metadata": {},
   "outputs": [
    {
     "name": "stdout",
     "output_type": "stream",
     "text": [
      "Test Set Metrics\n",
      "Accuracy: 0.8986152324431256\n",
      "Precision: 0.0\n",
      "Recall: 0.0\n",
      "F1 Score: 0.0\n",
      "ROC AUC: 0.5\n",
      "Confusion Matrix: \n",
      "[[1817    0]\n",
      " [ 205    0]]\n",
      "Classification Report: \n",
      "              precision    recall  f1-score   support\n",
      "\n",
      "           0       0.90      1.00      0.95      1817\n",
      "           1       0.00      0.00      0.00       205\n",
      "\n",
      "    accuracy                           0.90      2022\n",
      "   macro avg       0.45      0.50      0.47      2022\n",
      "weighted avg       0.81      0.90      0.85      2022\n",
      "\n"
     ]
    }
   ],
   "source": [
    "from main import evaluation_rfc\n",
    "evaluation_rfc(model_path='models_joblib/cip_rfc_model.joblib', test_features_data='datasets/cip_test_features.csv', test_labels_data='datasets/cip_test_labels.csv', evaluation_output_path='evaluation_results_json/cip_rfc_evaluation.json')"
   ]
  },
  {
   "cell_type": "code",
   "execution_count": 65,
   "metadata": {},
   "outputs": [
    {
     "name": "stdout",
     "output_type": "stream",
     "text": [
      "Test Set Metrics\n",
      "Accuracy: 0.8560830860534124\n",
      "Precision: 0.9373716632443532\n",
      "Recall: 0.7987751531058618\n",
      "F1 Score: 0.8625413320736892\n",
      "ROC AUC: 0.8646890555062869\n",
      "Confusion Matrix: \n",
      "[[818  61]\n",
      " [230 913]]\n",
      "Classification Report: \n",
      "              precision    recall  f1-score   support\n",
      "\n",
      "           0       0.78      0.93      0.85       879\n",
      "           1       0.94      0.80      0.86      1143\n",
      "\n",
      "    accuracy                           0.86      2022\n",
      "   macro avg       0.86      0.86      0.86      2022\n",
      "weighted avg       0.87      0.86      0.86      2022\n",
      "\n"
     ]
    }
   ],
   "source": [
    "evaluation_rfc(model_path='models_joblib/gen_rfc_model.joblib', test_features_data='datasets/gen_test_features.csv', test_labels_data='datasets/gen_test_labels.csv', evaluation_output_path='evaluation_results_json/gen_rfc_evaluation.json')"
   ]
  },
  {
   "cell_type": "code",
   "execution_count": 66,
   "metadata": {},
   "outputs": [
    {
     "name": "stdout",
     "output_type": "stream",
     "text": [
      "Test Set Metrics\n",
      "Accuracy: 0.8417408506429278\n",
      "Precision: 0.3333333333333333\n",
      "Recall: 0.003134796238244514\n",
      "F1 Score: 0.006211180124223602\n",
      "ROC AUC: 0.5009801990586408\n",
      "Confusion Matrix: \n",
      "[[1701    2]\n",
      " [ 318    1]]\n",
      "Classification Report: \n",
      "              precision    recall  f1-score   support\n",
      "\n",
      "           0       0.84      1.00      0.91      1703\n",
      "           1       0.33      0.00      0.01       319\n",
      "\n",
      "    accuracy                           0.84      2022\n",
      "   macro avg       0.59      0.50      0.46      2022\n",
      "weighted avg       0.76      0.84      0.77      2022\n",
      "\n"
     ]
    }
   ],
   "source": [
    "evaluation_rfc(model_path='models_joblib/omox_rfc_model.joblib', test_features_data='datasets/omox_test_features.csv', test_labels_data='datasets/omox_test_labels.csv', evaluation_output_path='evaluation_results_json/omox_rfc_evaluation.json')"
   ]
  },
  {
   "cell_type": "code",
   "execution_count": 55,
   "metadata": {},
   "outputs": [
    {
     "name": "stdout",
     "output_type": "stream",
     "text": [
      "Test Set Metrics\n",
      "Accuracy: 0.8986152324431256\n",
      "Precision: 0.0\n",
      "Recall: 0.0\n",
      "F1 Score: 0.0\n",
      "ROC AUC: 0.5\n",
      "Confusion Matrix: \n",
      "[[1817    0]\n",
      " [ 205    0]]\n",
      "Classification Report: \n",
      "              precision    recall  f1-score   support\n",
      "\n",
      "           0       0.90      1.00      0.95      1817\n",
      "           1       0.00      0.00      0.00       205\n",
      "\n",
      "    accuracy                           0.90      2022\n",
      "   macro avg       0.45      0.50      0.47      2022\n",
      "weighted avg       0.81      0.90      0.85      2022\n",
      "\n"
     ]
    }
   ],
   "source": [
    "from main import evaluation_gbc\n",
    "evaluation_gbc(model_path='models_joblib/cip_gbc_model.joblib', test_features_data='datasets/cip_test_features.csv', test_labels_data='datasets/cip_test_labels.csv', evaluation_output_path='evaluation_results_json/cip_gbc_evaluation.json')"
   ]
  },
  {
   "cell_type": "code",
   "execution_count": 67,
   "metadata": {},
   "outputs": [
    {
     "name": "stdout",
     "output_type": "stream",
     "text": [
      "Test Set Metrics\n",
      "Accuracy: 0.8610286844708209\n",
      "Precision: 0.9406952965235174\n",
      "Recall: 0.8048993875765529\n",
      "F1 Score: 0.8675153229608675\n",
      "ROC AUC: 0.8694576573832707\n",
      "Confusion Matrix: \n",
      "[[821  58]\n",
      " [223 920]]\n",
      "Classification Report: \n",
      "              precision    recall  f1-score   support\n",
      "\n",
      "           0       0.79      0.93      0.85       879\n",
      "           1       0.94      0.80      0.87      1143\n",
      "\n",
      "    accuracy                           0.86      2022\n",
      "   macro avg       0.86      0.87      0.86      2022\n",
      "weighted avg       0.87      0.86      0.86      2022\n",
      "\n"
     ]
    }
   ],
   "source": [
    "evaluation_gbc(model_path='models_joblib/gen_gbc_model.joblib', test_features_data='datasets/gen_test_features.csv', test_labels_data='datasets/gen_test_labels.csv', evaluation_output_path='evaluation_results_json/gen_gbc_evaluation.json')"
   ]
  },
  {
   "cell_type": "code",
   "execution_count": 68,
   "metadata": {},
   "outputs": [
    {
     "name": "stdout",
     "output_type": "stream",
     "text": [
      "Test Set Metrics\n",
      "Accuracy: 0.8422354104846687\n",
      "Precision: 0.0\n",
      "Recall: 0.0\n",
      "F1 Score: 0.0\n",
      "ROC AUC: 0.5\n",
      "Confusion Matrix: \n",
      "[[1703    0]\n",
      " [ 319    0]]\n",
      "Classification Report: \n",
      "              precision    recall  f1-score   support\n",
      "\n",
      "           0       0.84      1.00      0.91      1703\n",
      "           1       0.00      0.00      0.00       319\n",
      "\n",
      "    accuracy                           0.84      2022\n",
      "   macro avg       0.42      0.50      0.46      2022\n",
      "weighted avg       0.71      0.84      0.77      2022\n",
      "\n"
     ]
    }
   ],
   "source": [
    "evaluation_gbc(model_path='models_joblib/omox_gbc_model.joblib', test_features_data='datasets/omox_test_features.csv', test_labels_data='datasets/omox_test_labels.csv', evaluation_output_path='evaluation_results_json/omox_gbc_evaluation.json')"
   ]
  },
  {
   "cell_type": "code",
   "execution_count": 56,
   "metadata": {},
   "outputs": [
    {
     "name": "stdout",
     "output_type": "stream",
     "text": [
      "Test Set Metrics"
     ]
    },
    {
     "name": "stdout",
     "output_type": "stream",
     "text": [
      "\n",
      "Accuracy: 0.8986152324431256\n",
      "Precision: 0.0\n",
      "Recall: 0.0\n",
      "F1 Score: 0.0\n",
      "ROC AUC: 0.5\n",
      "Confusion Matrix: \n",
      "[[1817    0]\n",
      " [ 205    0]]\n",
      "Classification Report: \n",
      "              precision    recall  f1-score   support\n",
      "\n",
      "           0       0.90      1.00      0.95      1817\n",
      "           1       0.00      0.00      0.00       205\n",
      "\n",
      "    accuracy                           0.90      2022\n",
      "   macro avg       0.45      0.50      0.47      2022\n",
      "weighted avg       0.81      0.90      0.85      2022\n",
      "\n"
     ]
    }
   ],
   "source": [
    "from main import evaluation_bc\n",
    "evaluation_bc(model_path='models_joblib/cip_bc_model.joblib', test_features_data='datasets/cip_test_features.csv', test_labels_data='datasets/cip_test_labels.csv', evaluation_output_path='evaluation_results_json/cip_bc_evaluation.json')"
   ]
  },
  {
   "cell_type": "code",
   "execution_count": 69,
   "metadata": {},
   "outputs": [
    {
     "name": "stdout",
     "output_type": "stream",
     "text": [
      "Test Set Metrics\n",
      "Accuracy: 0.8531157270029673\n",
      "Precision: 0.9360824742268041\n",
      "Recall: 0.7944006999125109\n",
      "F1 Score: 0.8594415522953148\n",
      "ROC AUC: 0.8619330006957322\n",
      "Confusion Matrix: \n",
      "[[817  62]\n",
      " [235 908]]\n",
      "Classification Report: \n",
      "              precision    recall  f1-score   support\n",
      "\n",
      "           0       0.78      0.93      0.85       879\n",
      "           1       0.94      0.79      0.86      1143\n",
      "\n",
      "    accuracy                           0.85      2022\n",
      "   macro avg       0.86      0.86      0.85      2022\n",
      "weighted avg       0.87      0.85      0.85      2022\n",
      "\n"
     ]
    }
   ],
   "source": [
    "evaluation_bc(model_path='models_joblib/gen_bc_model.joblib', test_features_data='datasets/gen_test_features.csv', test_labels_data='datasets/gen_test_labels.csv', evaluation_output_path='evaluation_results_json/gen_bc_evaluation.json')"
   ]
  },
  {
   "cell_type": "code",
   "execution_count": 70,
   "metadata": {},
   "outputs": [
    {
     "name": "stdout",
     "output_type": "stream",
     "text": [
      "Test Set Metrics\n",
      "Accuracy: 0.8417408506429278\n",
      "Precision: 0.3333333333333333\n",
      "Recall: 0.003134796238244514\n",
      "F1 Score: 0.006211180124223602\n",
      "ROC AUC: 0.5009801990586408\n",
      "Confusion Matrix: \n",
      "[[1701    2]\n",
      " [ 318    1]]\n",
      "Classification Report: \n",
      "              precision    recall  f1-score   support\n",
      "\n",
      "           0       0.84      1.00      0.91      1703\n",
      "           1       0.33      0.00      0.01       319\n",
      "\n",
      "    accuracy                           0.84      2022\n",
      "   macro avg       0.59      0.50      0.46      2022\n",
      "weighted avg       0.76      0.84      0.77      2022\n",
      "\n"
     ]
    }
   ],
   "source": [
    "evaluation_bc(model_path='models_joblib/omox_bc_model.joblib', test_features_data='datasets/omox_test_features.csv', test_labels_data='datasets/omox_test_labels.csv', evaluation_output_path='evaluation_results_json/omox_bc_evaluation.json')"
   ]
  },
  {
   "cell_type": "code",
   "execution_count": 57,
   "metadata": {},
   "outputs": [
    {
     "name": "stdout",
     "output_type": "stream",
     "text": [
      "Test Set Metrics\n",
      "Accuracy: 0.8986152324431256\n",
      "Precision: 0.0\n",
      "Recall: 0.0\n",
      "F1 Score: 0.0\n",
      "ROC AUC: 0.5\n",
      "Confusion Matrix: \n",
      "[[1817    0]\n",
      " [ 205    0]]\n",
      "Classification Report: \n",
      "              precision    recall  f1-score   support\n",
      "\n",
      "           0       0.90      1.00      0.95      1817\n",
      "           1       0.00      0.00      0.00       205\n",
      "\n",
      "    accuracy                           0.90      2022\n",
      "   macro avg       0.45      0.50      0.47      2022\n",
      "weighted avg       0.81      0.90      0.85      2022\n",
      "\n"
     ]
    }
   ],
   "source": [
    "from main import evaluation_abc\n",
    "evaluation_abc(model_path='models_joblib/cip_abc_model.joblib', test_features_data='datasets/cip_test_features.csv', test_labels_data='datasets/cip_test_labels.csv', evaluation_output_path='evaluation_results_json/cip_abc_evaluation.json')"
   ]
  },
  {
   "cell_type": "code",
   "execution_count": 71,
   "metadata": {},
   "outputs": [
    {
     "name": "stdout",
     "output_type": "stream",
     "text": [
      "Test Set Metrics\n",
      "Accuracy: 0.8610286844708209\n",
      "Precision: 0.9406952965235174\n",
      "Recall: 0.8048993875765529\n",
      "F1 Score: 0.8675153229608675\n",
      "ROC AUC: 0.8694576573832707\n",
      "Confusion Matrix: \n",
      "[[821  58]\n",
      " [223 920]]\n",
      "Classification Report: \n",
      "              precision    recall  f1-score   support\n",
      "\n",
      "           0       0.79      0.93      0.85       879\n",
      "           1       0.94      0.80      0.87      1143\n",
      "\n",
      "    accuracy                           0.86      2022\n",
      "   macro avg       0.86      0.87      0.86      2022\n",
      "weighted avg       0.87      0.86      0.86      2022\n",
      "\n"
     ]
    }
   ],
   "source": [
    "evaluation_abc(model_path='models_joblib/gen_abc_model.joblib', test_features_data='datasets/gen_test_features.csv', test_labels_data='datasets/gen_test_labels.csv', evaluation_output_path='evaluation_results_json/gen_abc_evaluation.json')"
   ]
  },
  {
   "cell_type": "code",
   "execution_count": 72,
   "metadata": {},
   "outputs": [
    {
     "name": "stdout",
     "output_type": "stream",
     "text": [
      "Test Set Metrics\n",
      "Accuracy: 0.8422354104846687\n",
      "Precision: 0.0\n",
      "Recall: 0.0\n",
      "F1 Score: 0.0\n",
      "ROC AUC: 0.5\n",
      "Confusion Matrix: \n",
      "[[1703    0]\n",
      " [ 319    0]]\n",
      "Classification Report: \n",
      "              precision    recall  f1-score   support\n",
      "\n",
      "           0       0.84      1.00      0.91      1703\n",
      "           1       0.00      0.00      0.00       319\n",
      "\n",
      "    accuracy                           0.84      2022\n",
      "   macro avg       0.42      0.50      0.46      2022\n",
      "weighted avg       0.71      0.84      0.77      2022\n",
      "\n"
     ]
    }
   ],
   "source": [
    "evaluation_abc(model_path='models_joblib/omox_abc_model.joblib', test_features_data='datasets/omox_test_features.csv', test_labels_data='datasets/omox_test_labels.csv', evaluation_output_path='evaluation_results_json/omox_abc_evaluation.json')"
   ]
  },
  {
   "cell_type": "code",
   "execution_count": 58,
   "metadata": {},
   "outputs": [
    {
     "name": "stdout",
     "output_type": "stream",
     "text": [
      "Test Set Metrics\n",
      "Accuracy: 0.8986152324431256\n",
      "Precision: 0.0\n",
      "Recall: 0.0\n",
      "F1 Score: 0.0\n",
      "ROC AUC: 0.5\n",
      "Confusion Matrix: \n",
      "[[1817    0]\n",
      " [ 205    0]]\n",
      "Classification Report: \n",
      "              precision    recall  f1-score   support\n",
      "\n",
      "           0       0.90      1.00      0.95      1817\n",
      "           1       0.00      0.00      0.00       205\n",
      "\n",
      "    accuracy                           0.90      2022\n",
      "   macro avg       0.45      0.50      0.47      2022\n",
      "weighted avg       0.81      0.90      0.85      2022\n",
      "\n"
     ]
    }
   ],
   "source": [
    "from main import evaluation_xgbc\n",
    "evaluation_xgbc(model_path='models_joblib/cip_xgbc_model.joblib', test_features_data='datasets/cip_test_features.csv', test_labels_data='datasets/cip_test_labels.csv', evaluation_output_path='evaluation_results_json/cip_xgbc_evaluation.json')"
   ]
  },
  {
   "cell_type": "code",
   "execution_count": 73,
   "metadata": {},
   "outputs": [
    {
     "name": "stdout",
     "output_type": "stream",
     "text": [
      "Test Set Metrics\n",
      "Accuracy: 0.8560830860534124\n",
      "Precision: 0.9373716632443532\n",
      "Recall: 0.7987751531058618\n",
      "F1 Score: 0.8625413320736892\n",
      "ROC AUC: 0.8646890555062869\n",
      "Confusion Matrix: \n",
      "[[818  61]\n",
      " [230 913]]\n",
      "Classification Report: \n",
      "              precision    recall  f1-score   support\n",
      "\n",
      "           0       0.78      0.93      0.85       879\n",
      "           1       0.94      0.80      0.86      1143\n",
      "\n",
      "    accuracy                           0.86      2022\n",
      "   macro avg       0.86      0.86      0.86      2022\n",
      "weighted avg       0.87      0.86      0.86      2022\n",
      "\n"
     ]
    }
   ],
   "source": [
    "evaluation_xgbc(model_path='models_joblib/gen_xgbc_model.joblib', test_features_data='datasets/gen_test_features.csv', test_labels_data='datasets/gen_test_labels.csv', evaluation_output_path='evaluation_results_json/gen_xgbc_evaluation.json')"
   ]
  },
  {
   "cell_type": "code",
   "execution_count": 74,
   "metadata": {},
   "outputs": [
    {
     "name": "stdout",
     "output_type": "stream",
     "text": [
      "Test Set Metrics\n",
      "Accuracy: 0.8422354104846687\n",
      "Precision: 0.0\n",
      "Recall: 0.0\n",
      "F1 Score: 0.0\n",
      "ROC AUC: 0.5\n",
      "Confusion Matrix: \n",
      "[[1703    0]\n",
      " [ 319    0]]\n",
      "Classification Report: \n",
      "              precision    recall  f1-score   support\n",
      "\n",
      "           0       0.84      1.00      0.91      1703\n",
      "           1       0.00      0.00      0.00       319\n",
      "\n",
      "    accuracy                           0.84      2022\n",
      "   macro avg       0.42      0.50      0.46      2022\n",
      "weighted avg       0.71      0.84      0.77      2022\n",
      "\n"
     ]
    }
   ],
   "source": [
    "evaluation_xgbc(model_path='models_joblib/omox_xgbc_model.joblib', test_features_data='datasets/omox_test_features.csv', test_labels_data='datasets/omox_test_labels.csv', evaluation_output_path='evaluation_results_json/omox_xgbc_evaluation.json')"
   ]
  },
  {
   "cell_type": "code",
   "execution_count": 59,
   "metadata": {},
   "outputs": [
    {
     "name": "stdout",
     "output_type": "stream",
     "text": [
      "Test Set Metrics\n",
      "Accuracy: 0.8986152324431256\n",
      "Precision: 0.0\n",
      "Recall: 0.0\n",
      "F1 Score: 0.0\n",
      "ROC AUC: 0.5\n",
      "Confusion Matrix: \n",
      "[[1817    0]\n",
      " [ 205    0]]\n",
      "Classification Report: \n",
      "              precision    recall  f1-score   support\n",
      "\n",
      "           0       0.90      1.00      0.95      1817\n",
      "           1       0.00      0.00      0.00       205\n",
      "\n",
      "    accuracy                           0.90      2022\n",
      "   macro avg       0.45      0.50      0.47      2022\n",
      "weighted avg       0.81      0.90      0.85      2022\n",
      "\n"
     ]
    }
   ],
   "source": [
    "from main import evaluation_svc\n",
    "evaluation_svc(model_path='models_joblib/cip_svc_model.joblib', test_features_data='datasets/cip_test_features.csv', test_labels_data='datasets/cip_test_labels.csv', evaluation_output_path='evaluation_results_json/cip_svc_evaluation.json')"
   ]
  },
  {
   "cell_type": "code",
   "execution_count": 75,
   "metadata": {},
   "outputs": [
    {
     "name": "stdout",
     "output_type": "stream",
     "text": [
      "Test Set Metrics\n",
      "Accuracy: 0.8580613254203758\n",
      "Precision: 0.9514767932489452\n",
      "Recall: 0.7891513560804899\n",
      "F1 Score: 0.8627450980392156\n",
      "ROC AUC: 0.8684095802017922\n",
      "Confusion Matrix: \n",
      "[[833  46]\n",
      " [241 902]]\n",
      "Classification Report: \n",
      "              precision    recall  f1-score   support\n",
      "\n",
      "           0       0.78      0.95      0.85       879\n",
      "           1       0.95      0.79      0.86      1143\n",
      "\n",
      "    accuracy                           0.86      2022\n",
      "   macro avg       0.86      0.87      0.86      2022\n",
      "weighted avg       0.88      0.86      0.86      2022\n",
      "\n"
     ]
    }
   ],
   "source": [
    "evaluation_svc(model_path='models_joblib/gen_svc_model.joblib', test_features_data='datasets/gen_test_features.csv', test_labels_data='datasets/gen_test_labels.csv', evaluation_output_path='evaluation_results_json/gen_svc_evaluation.json')"
   ]
  },
  {
   "cell_type": "code",
   "execution_count": 76,
   "metadata": {},
   "outputs": [
    {
     "name": "stdout",
     "output_type": "stream",
     "text": [
      "Test Set Metrics\n",
      "Accuracy: 0.8422354104846687\n",
      "Precision: 0.0\n",
      "Recall: 0.0\n",
      "F1 Score: 0.0\n",
      "ROC AUC: 0.5\n",
      "Confusion Matrix: \n",
      "[[1703    0]\n",
      " [ 319    0]]\n",
      "Classification Report: \n",
      "              precision    recall  f1-score   support\n",
      "\n",
      "           0       0.84      1.00      0.91      1703\n",
      "           1       0.00      0.00      0.00       319\n",
      "\n",
      "    accuracy                           0.84      2022\n",
      "   macro avg       0.42      0.50      0.46      2022\n",
      "weighted avg       0.71      0.84      0.77      2022\n",
      "\n"
     ]
    }
   ],
   "source": [
    "evaluation_svc(model_path='models_joblib/omox_svc_model.joblib', test_features_data='datasets/omox_test_features.csv', test_labels_data='datasets/omox_test_labels.csv', evaluation_output_path='evaluation_results_json/omox_svc_evaluation.json')"
   ]
  },
  {
   "cell_type": "code",
   "execution_count": 60,
   "metadata": {},
   "outputs": [
    {
     "name": "stdout",
     "output_type": "stream",
     "text": [
      "Test Set Metrics\n",
      "Accuracy: 0.8986152324431256\n",
      "Precision: 0.0\n",
      "Recall: 0.0\n",
      "F1 Score: 0.0\n",
      "ROC AUC: 0.5\n",
      "Confusion Matrix: \n",
      "[[1817    0]\n",
      " [ 205    0]]\n",
      "Classification Report: \n",
      "              precision    recall  f1-score   support\n",
      "\n",
      "           0       0.90      1.00      0.95      1817\n",
      "           1       0.00      0.00      0.00       205\n",
      "\n",
      "    accuracy                           0.90      2022\n",
      "   macro avg       0.45      0.50      0.47      2022\n",
      "weighted avg       0.81      0.90      0.85      2022\n",
      "\n"
     ]
    }
   ],
   "source": [
    "from main import evaluation_nb\n",
    "evaluation_nb(model_path='models_joblib/cip_nb_model.joblib', test_features_data='datasets/cip_test_features.csv', test_labels_data='datasets/cip_test_labels.csv', evaluation_output_path='evaluation_results_json/cip_nb_evaluation.json')"
   ]
  },
  {
   "cell_type": "code",
   "execution_count": 77,
   "metadata": {},
   "outputs": [
    {
     "name": "stdout",
     "output_type": "stream",
     "text": [
      "Test Set Metrics\n",
      "Accuracy: 0.844213649851632\n",
      "Precision: 0.8723021582733813\n",
      "Recall: 0.8486439195100612\n",
      "F1 Score: 0.8603104212860311\n",
      "ROC AUC: 0.8435483533841546\n",
      "Confusion Matrix: \n",
      "[[737 142]\n",
      " [173 970]]\n",
      "Classification Report: \n",
      "              precision    recall  f1-score   support\n",
      "\n",
      "           0       0.81      0.84      0.82       879\n",
      "           1       0.87      0.85      0.86      1143\n",
      "\n",
      "    accuracy                           0.84      2022\n",
      "   macro avg       0.84      0.84      0.84      2022\n",
      "weighted avg       0.85      0.84      0.84      2022\n",
      "\n"
     ]
    }
   ],
   "source": [
    "evaluation_nb(model_path='models_joblib/gen_nb_model.joblib', test_features_data='datasets/gen_test_features.csv', test_labels_data='datasets/gen_test_labels.csv', evaluation_output_path='evaluation_results_json/gen_nb_evaluation.json')"
   ]
  },
  {
   "cell_type": "code",
   "execution_count": 78,
   "metadata": {},
   "outputs": [
    {
     "name": "stdout",
     "output_type": "stream",
     "text": [
      "Test Set Metrics\n",
      "Accuracy: 0.8422354104846687\n",
      "Precision: 0.0\n",
      "Recall: 0.0\n",
      "F1 Score: 0.0\n",
      "ROC AUC: 0.5\n",
      "Confusion Matrix: \n",
      "[[1703    0]\n",
      " [ 319    0]]\n",
      "Classification Report: \n",
      "              precision    recall  f1-score   support\n",
      "\n",
      "           0       0.84      1.00      0.91      1703\n",
      "           1       0.00      0.00      0.00       319\n",
      "\n",
      "    accuracy                           0.84      2022\n",
      "   macro avg       0.42      0.50      0.46      2022\n",
      "weighted avg       0.71      0.84      0.77      2022\n",
      "\n"
     ]
    }
   ],
   "source": [
    "evaluation_nb(model_path='models_joblib/omox_nb_model.joblib', test_features_data='datasets/omox_test_features.csv', test_labels_data='datasets/omox_test_labels.csv', evaluation_output_path='evaluation_results_json/omox_nb_evaluation.json')"
   ]
  }
 ],
 "metadata": {
  "kernelspec": {
   "display_name": "base",
   "language": "python",
   "name": "python3"
  },
  "language_info": {
   "codemirror_mode": {
    "name": "ipython",
    "version": 3
   },
   "file_extension": ".py",
   "mimetype": "text/x-python",
   "name": "python",
   "nbconvert_exporter": "python",
   "pygments_lexer": "ipython3",
   "version": "3.7.16"
  },
  "vscode": {
   "interpreter": {
    "hash": "a92114fa7b60a12f374f39c2ea9a996523303352bf2f355fea3b0bbfc5e961da"
   }
  }
 },
 "nbformat": 4,
 "nbformat_minor": 2
}
